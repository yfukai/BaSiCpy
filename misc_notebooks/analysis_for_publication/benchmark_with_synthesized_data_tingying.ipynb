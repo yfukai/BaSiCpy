{
 "cells": [
  {
   "cell_type": "code",
   "execution_count": 1,
   "id": "0823a2c6-3c62-428a-8a6b-9aa32467a299",
   "metadata": {},
   "outputs": [],
   "source": [
    "import os\n",
    "os.environ[\"XLA_PYTHON_CLIENT_PREALLOCATE\"]=\"false\""
   ]
  },
  {
   "cell_type": "code",
   "execution_count": 2,
   "id": "ddabd907-55bb-4ef0-9ccc-518523bf2f82",
   "metadata": {},
   "outputs": [],
   "source": [
    "workdir = \"/work/fukai/basicpy\"\n",
    "os.makedirs(workdir,exist_ok = True)"
   ]
  },
  {
   "cell_type": "code",
   "execution_count": 3,
   "id": "a6aa475f-cd6c-4ba7-a2d9-8a14babd3be2",
   "metadata": {},
   "outputs": [
    {
     "ename": "NameError",
     "evalue": "name 'np' is not defined",
     "output_type": "error",
     "traceback": [
      "\u001b[0;31m---------------------------------------------------------------------------\u001b[0m",
      "\u001b[0;31mNameError\u001b[0m                                 Traceback (most recent call last)",
      "Cell \u001b[0;32mIn[3], line 1\u001b[0m\n\u001b[0;32m----> 1\u001b[0m flatfields \u001b[38;5;241m=\u001b[39m \u001b[43mnp\u001b[49m\u001b[38;5;241m.\u001b[39mload(\u001b[38;5;124m\"\u001b[39m\u001b[38;5;124mflatfields.npy\u001b[39m\u001b[38;5;124m\"\u001b[39m)\n",
      "\u001b[0;31mNameError\u001b[0m: name 'np' is not defined"
     ]
    }
   ],
   "source": [
    "flatfields = np.load(\"flatfields.npy\")"
   ]
  },
  {
   "cell_type": "code",
   "execution_count": null,
   "id": "88c1368f-3954-47ff-bcc6-53d08b3a6185",
   "metadata": {},
   "outputs": [],
   "source": []
  }
 ],
 "metadata": {
  "kernelspec": {
   "display_name": "Python 3 (ipykernel)",
   "language": "python",
   "name": "python3"
  },
  "language_info": {
   "codemirror_mode": {
    "name": "ipython",
    "version": 3
   },
   "file_extension": ".py",
   "mimetype": "text/x-python",
   "name": "python",
   "nbconvert_exporter": "python",
   "pygments_lexer": "ipython3",
   "version": "3.10.8"
  }
 },
 "nbformat": 4,
 "nbformat_minor": 5
}
