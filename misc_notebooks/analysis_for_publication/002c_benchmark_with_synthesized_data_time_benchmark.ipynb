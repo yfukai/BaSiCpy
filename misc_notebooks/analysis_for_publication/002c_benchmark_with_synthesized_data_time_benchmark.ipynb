{
 "cells": [
  {
   "cell_type": "code",
   "execution_count": 3,
   "metadata": {
    "scrolled": true
   },
   "outputs": [
    {
     "name": "stdout",
     "output_type": "stream",
     "text": [
      "Collecting git+https://github.com/yfukai/BaSiCPy@autosegment\n",
      "  Cloning https://github.com/yfukai/BaSiCPy (to revision autosegment) to /tmp/pip-req-build-6x9241hx\n",
      "  Running command git clone --filter=blob:none --quiet https://github.com/yfukai/BaSiCPy /tmp/pip-req-build-6x9241hx\n",
      "  Running command git checkout -b autosegment --track origin/autosegment\n",
      "  Switched to a new branch 'autosegment'\n",
      "  Branch 'autosegment' set up to track remote branch 'autosegment' from 'origin'.\n",
      "  Resolved https://github.com/yfukai/BaSiCPy to commit 2ebf6939a94919fca8271185e38d0600fb7c1140\n",
      "  Installing build dependencies ... \u001b[?25ldone\n",
      "\u001b[?25h  Getting requirements to build wheel ... \u001b[?25ldone\n",
      "\u001b[?25h  Preparing metadata (pyproject.toml) ... \u001b[?25ldone\n",
      "\u001b[?25hRequirement already satisfied: hyperactive>=4.4.0 in /home/fukai/.pyenv/versions/miniconda3-4.7.12/envs/basicpy/lib/python3.10/site-packages (from BaSiCPy==1.1.0) (4.4.3)\n",
      "Requirement already satisfied: jax>=0.3.10 in /home/fukai/.pyenv/versions/miniconda3-4.7.12/envs/basicpy/lib/python3.10/site-packages (from BaSiCPy==1.1.0) (0.4.13)\n",
      "Requirement already satisfied: jaxlib>=0.3.10 in /home/fukai/.pyenv/versions/miniconda3-4.7.12/envs/basicpy/lib/python3.10/site-packages (from BaSiCPy==1.1.0) (0.4.13+cuda11.cudnn86)\n",
      "Requirement already satisfied: numpy in /home/fukai/.pyenv/versions/miniconda3-4.7.12/envs/basicpy/lib/python3.10/site-packages (from BaSiCPy==1.1.0) (1.25.0)\n",
      "Requirement already satisfied: pooch in /home/fukai/.pyenv/versions/miniconda3-4.7.12/envs/basicpy/lib/python3.10/site-packages (from BaSiCPy==1.1.0) (1.7.0)\n",
      "Requirement already satisfied: pydantic<2.0.0,>=1.9.1 in /home/fukai/.pyenv/versions/miniconda3-4.7.12/envs/basicpy/lib/python3.10/site-packages (from BaSiCPy==1.1.0) (1.10.11)\n",
      "Requirement already satisfied: scikit-image in /home/fukai/.pyenv/versions/miniconda3-4.7.12/envs/basicpy/lib/python3.10/site-packages (from BaSiCPy==1.1.0) (0.21.0)\n",
      "Requirement already satisfied: scipy in /home/fukai/.pyenv/versions/miniconda3-4.7.12/envs/basicpy/lib/python3.10/site-packages (from BaSiCPy==1.1.0) (1.11.1)\n",
      "Requirement already satisfied: tqdm<5.0.0,>=4.48.0 in /home/fukai/.pyenv/versions/miniconda3-4.7.12/envs/basicpy/lib/python3.10/site-packages (from hyperactive>=4.4.0->BaSiCPy==1.1.0) (4.65.0)\n",
      "Requirement already satisfied: pandas<2.0.0 in /home/fukai/.pyenv/versions/miniconda3-4.7.12/envs/basicpy/lib/python3.10/site-packages (from hyperactive>=4.4.0->BaSiCPy==1.1.0) (1.5.3)\n",
      "Requirement already satisfied: gradient-free-optimizers<2.0.0,>=1.2.4 in /home/fukai/.pyenv/versions/miniconda3-4.7.12/envs/basicpy/lib/python3.10/site-packages (from hyperactive>=4.4.0->BaSiCPy==1.1.0) (1.3.0)\n",
      "Requirement already satisfied: ml-dtypes>=0.1.0 in /home/fukai/.pyenv/versions/miniconda3-4.7.12/envs/basicpy/lib/python3.10/site-packages (from jax>=0.3.10->BaSiCPy==1.1.0) (0.2.0)\n",
      "Requirement already satisfied: opt-einsum in /home/fukai/.pyenv/versions/miniconda3-4.7.12/envs/basicpy/lib/python3.10/site-packages (from jax>=0.3.10->BaSiCPy==1.1.0) (3.3.0)\n",
      "Requirement already satisfied: typing-extensions>=4.2.0 in /home/fukai/.pyenv/versions/miniconda3-4.7.12/envs/basicpy/lib/python3.10/site-packages (from pydantic<2.0.0,>=1.9.1->BaSiCPy==1.1.0) (4.6.3)\n",
      "Requirement already satisfied: platformdirs>=2.5.0 in /home/fukai/.pyenv/versions/miniconda3-4.7.12/envs/basicpy/lib/python3.10/site-packages (from pooch->BaSiCPy==1.1.0) (2.5.2)\n",
      "Requirement already satisfied: packaging>=20.0 in /home/fukai/.pyenv/versions/miniconda3-4.7.12/envs/basicpy/lib/python3.10/site-packages (from pooch->BaSiCPy==1.1.0) (23.0)\n",
      "Requirement already satisfied: requests>=2.19.0 in /home/fukai/.pyenv/versions/miniconda3-4.7.12/envs/basicpy/lib/python3.10/site-packages (from pooch->BaSiCPy==1.1.0) (2.29.0)\n",
      "Requirement already satisfied: networkx>=2.8 in /home/fukai/.pyenv/versions/miniconda3-4.7.12/envs/basicpy/lib/python3.10/site-packages (from scikit-image->BaSiCPy==1.1.0) (3.1)\n",
      "Requirement already satisfied: pillow>=9.0.1 in /home/fukai/.pyenv/versions/miniconda3-4.7.12/envs/basicpy/lib/python3.10/site-packages (from scikit-image->BaSiCPy==1.1.0) (9.4.0)\n",
      "Requirement already satisfied: imageio>=2.27 in /home/fukai/.pyenv/versions/miniconda3-4.7.12/envs/basicpy/lib/python3.10/site-packages (from scikit-image->BaSiCPy==1.1.0) (2.31.1)\n",
      "Requirement already satisfied: tifffile>=2022.8.12 in /home/fukai/.pyenv/versions/miniconda3-4.7.12/envs/basicpy/lib/python3.10/site-packages (from scikit-image->BaSiCPy==1.1.0) (2023.7.4)\n",
      "Requirement already satisfied: PyWavelets>=1.1.1 in /home/fukai/.pyenv/versions/miniconda3-4.7.12/envs/basicpy/lib/python3.10/site-packages (from scikit-image->BaSiCPy==1.1.0) (1.4.1)\n",
      "Requirement already satisfied: lazy_loader>=0.2 in /home/fukai/.pyenv/versions/miniconda3-4.7.12/envs/basicpy/lib/python3.10/site-packages (from scikit-image->BaSiCPy==1.1.0) (0.3)\n",
      "Requirement already satisfied: scikit-learn!=0.23.*,>=0.21 in /home/fukai/.pyenv/versions/miniconda3-4.7.12/envs/basicpy/lib/python3.10/site-packages (from gradient-free-optimizers<2.0.0,>=1.2.4->hyperactive>=4.4.0->BaSiCPy==1.1.0) (1.3.0)\n",
      "Requirement already satisfied: python-dateutil>=2.8.1 in /home/fukai/.pyenv/versions/miniconda3-4.7.12/envs/basicpy/lib/python3.10/site-packages (from pandas<2.0.0->hyperactive>=4.4.0->BaSiCPy==1.1.0) (2.8.2)\n",
      "Requirement already satisfied: pytz>=2020.1 in /home/fukai/.pyenv/versions/miniconda3-4.7.12/envs/basicpy/lib/python3.10/site-packages (from pandas<2.0.0->hyperactive>=4.4.0->BaSiCPy==1.1.0) (2022.7)\n",
      "Requirement already satisfied: charset-normalizer<4,>=2 in /home/fukai/.pyenv/versions/miniconda3-4.7.12/envs/basicpy/lib/python3.10/site-packages (from requests>=2.19.0->pooch->BaSiCPy==1.1.0) (2.0.4)\n",
      "Requirement already satisfied: idna<4,>=2.5 in /home/fukai/.pyenv/versions/miniconda3-4.7.12/envs/basicpy/lib/python3.10/site-packages (from requests>=2.19.0->pooch->BaSiCPy==1.1.0) (3.4)\n",
      "Requirement already satisfied: urllib3<1.27,>=1.21.1 in /home/fukai/.pyenv/versions/miniconda3-4.7.12/envs/basicpy/lib/python3.10/site-packages (from requests>=2.19.0->pooch->BaSiCPy==1.1.0) (1.26.16)\n",
      "Requirement already satisfied: certifi>=2017.4.17 in /home/fukai/.pyenv/versions/miniconda3-4.7.12/envs/basicpy/lib/python3.10/site-packages (from requests>=2.19.0->pooch->BaSiCPy==1.1.0) (2023.7.22)\n",
      "Requirement already satisfied: six>=1.5 in /home/fukai/.pyenv/versions/miniconda3-4.7.12/envs/basicpy/lib/python3.10/site-packages (from python-dateutil>=2.8.1->pandas<2.0.0->hyperactive>=4.4.0->BaSiCPy==1.1.0) (1.16.0)\n",
      "Requirement already satisfied: joblib>=1.1.1 in /home/fukai/.pyenv/versions/miniconda3-4.7.12/envs/basicpy/lib/python3.10/site-packages (from scikit-learn!=0.23.*,>=0.21->gradient-free-optimizers<2.0.0,>=1.2.4->hyperactive>=4.4.0->BaSiCPy==1.1.0) (1.3.1)\n",
      "Requirement already satisfied: threadpoolctl>=2.0.0 in /home/fukai/.pyenv/versions/miniconda3-4.7.12/envs/basicpy/lib/python3.10/site-packages (from scikit-learn!=0.23.*,>=0.21->gradient-free-optimizers<2.0.0,>=1.2.4->hyperactive>=4.4.0->BaSiCPy==1.1.0) (3.1.0)\n",
      "Note: you may need to restart the kernel to use updated packages.\n"
     ]
    }
   ],
   "source": [
    "%pip install git+https://github.com/yfukai/BaSiCPy@autosegment"
   ]
  },
  {
   "cell_type": "markdown",
   "metadata": {},
   "source": [
    "# Install and import "
   ]
  },
  {
   "cell_type": "code",
   "execution_count": 4,
   "metadata": {},
   "outputs": [],
   "source": [
    "workdir = \"/work/fukai/basicpy\"\n",
    "#os.makedirs(workdir,exist_ok = True)"
   ]
  },
  {
   "cell_type": "code",
   "execution_count": 5,
   "metadata": {},
   "outputs": [],
   "source": [
    "import numpy as np\n",
    "import pandas as pd\n",
    "from basicpy import BaSiC, datasets, metrics\n",
    "from itertools import product\n",
    "from tqdm import tqdm\n",
    "from matplotlib import pyplot as plt\n",
    "import time\n",
    "from itertools import product\n",
    "import pickle \n",
    "from os import path\n",
    "from skimage import filters\n",
    "import jax\n",
    "import itertools\n",
    "\n",
    "plt.rcParams[\"font.family\"] = \"\""
   ]
  },
  {
   "cell_type": "code",
   "execution_count": 6,
   "metadata": {},
   "outputs": [],
   "source": [
    "with open(path.join(workdir,\"wo_darkfield_imagess.pickle\"),\"rb\") as f:\n",
    "    imagess=pickle.load(f)"
   ]
  },
  {
   "cell_type": "code",
   "execution_count": 7,
   "metadata": {},
   "outputs": [],
   "source": [
    "parameters_df=pd.read_csv(path.join(workdir,\"wo_darkfield_parameters.csv\"),index_col=0)"
   ]
  },
  {
   "cell_type": "code",
   "execution_count": 8,
   "metadata": {},
   "outputs": [],
   "source": [
    "_df = parameters_df[parameters_df[\"true_flatfield_id\"]==0]\n",
    "_imagess = [imagess[i] for i in _df.index.to_numpy()]"
   ]
  },
  {
   "cell_type": "code",
   "execution_count": 9,
   "metadata": {},
   "outputs": [],
   "source": [
    "estimated_parameters = []\n",
    "b = BaSiC(\n",
    "    get_darkfield=False,\n",
    ")"
   ]
  },
  {
   "cell_type": "code",
   "execution_count": null,
   "metadata": {},
   "outputs": [
    {
     "name": "stderr",
     "output_type": "stream",
     "text": [
      "  0%|                                                                                                                                                                                             | 0/300 [00:00<?, ?it/s]/tmp/ipykernel_140437/2367380063.py:18: DeprecationWarning: `product` is deprecated as of NumPy 1.25.0, and will be removed in NumPy 2.0. Please use `prod` instead.\n",
      "  b.fit(np.array(images))\n",
      "/tmp/ipykernel_140437/2367380063.py:18: DeprecationWarning: `product` is deprecated as of NumPy 1.25.0, and will be removed in NumPy 2.0. Please use `prod` instead.\n",
      "  b.fit(np.array(images))\n",
      "  3%|█████▉                                                                                                                                                                            | 10/300 [07:14<2:06:59, 26.27s/it]/tmp/ipykernel_140437/2367380063.py:18: DeprecationWarning: `product` is deprecated as of NumPy 1.25.0, and will be removed in NumPy 2.0. Please use `prod` instead.\n",
      "  b.fit(np.array(images))\n",
      "  7%|███████████▊                                                                                                                                                                      | 20/300 [11:52<1:41:03, 21.66s/it]/tmp/ipykernel_140437/2367380063.py:18: DeprecationWarning: `product` is deprecated as of NumPy 1.25.0, and will be removed in NumPy 2.0. Please use `prod` instead.\n",
      "  b.fit(np.array(images))\n",
      "Single-step optimization did not converge at the last reweighting step.\n",
      "  7%|████████████▍                                                                                                                                                                     | 21/300 [13:59<4:07:54, 53.31s/it]Single-step optimization did not converge at the last reweighting step.\n",
      "  7%|█████████████                                                                                                                                                                     | 22/300 [14:16<3:16:39, 42.44s/it]Single-step optimization did not converge at the last reweighting step.\n",
      "  8%|█████████████▋                                                                                                                                                                    | 23/300 [14:32<2:39:54, 34.64s/it]Single-step optimization did not converge at the last reweighting step.\n",
      "  8%|██████████████▏                                                                                                                                                                   | 24/300 [14:50<2:15:39, 29.49s/it]Single-step optimization did not converge at the last reweighting step.\n",
      "  8%|██████████████▊                                                                                                                                                                   | 25/300 [15:07<1:57:55, 25.73s/it]Single-step optimization did not converge at the last reweighting step.\n",
      "  9%|███████████████▍                                                                                                                                                                  | 26/300 [15:23<1:44:42, 22.93s/it]Single-step optimization did not converge at the last reweighting step.\n",
      "  9%|████████████████                                                                                                                                                                  | 27/300 [15:40<1:36:37, 21.24s/it]Single-step optimization did not converge at the last reweighting step.\n",
      "  9%|████████████████▌                                                                                                                                                                 | 28/300 [15:57<1:29:37, 19.77s/it]Single-step optimization did not converge at the last reweighting step.\n",
      " 10%|█████████████████▏                                                                                                                                                                | 29/300 [16:14<1:25:29, 18.93s/it]Single-step optimization did not converge at the last reweighting step.\n",
      " 10%|█████████████████▊                                                                                                                                                                | 30/300 [16:30<1:22:03, 18.23s/it]/tmp/ipykernel_140437/2367380063.py:18: DeprecationWarning: `product` is deprecated as of NumPy 1.25.0, and will be removed in NumPy 2.0. Please use `prod` instead.\n",
      "  b.fit(np.array(images))\n",
      "Single-step optimization did not converge at the last reweighting step.\n",
      " 10%|██████████████████▍                                                                                                                                                               | 31/300 [18:33<3:42:18, 49.59s/it]Single-step optimization did not converge at the last reweighting step.\n",
      " 11%|██████████████████▉                                                                                                                                                               | 32/300 [18:50<2:58:30, 39.97s/it]Single-step optimization did not converge at the last reweighting step.\n",
      " 11%|███████████████████▌                                                                                                                                                              | 33/300 [19:07<2:27:00, 33.04s/it]"
     ]
    }
   ],
   "source": [
    "jax.config.update('jax_platform_name', 'gpu')\n",
    "\n",
    "for p,images in tqdm(zip(_df.to_dict(orient=\"records\"),_imagess),total=len(_imagess)):\n",
    "    for fitting_mode, smoothness_flatfield in itertools.product(\n",
    "        [\"ladmap\"],  # fitting_mode\n",
    "        list(np.logspace(-3, 1, 3)),  # smoothness_flatfield\n",
    "    ):\n",
    "        #print(fitting_mode, smoothness_flatfield)\n",
    "        p2 = p.copy()\n",
    "        p2.update({\n",
    "            \"fitting_mode\": fitting_mode,\n",
    "            \"smoothness_flatfield\": smoothness_flatfield,\n",
    "            \"accerelator\": \"gpu\",\n",
    "        })\n",
    "        b.fitting_mode=fitting_mode\n",
    "        b.smoothness_flatfield=smoothness_flatfield\n",
    "        start = time.time()\n",
    "        b.fit(np.array(images))\n",
    "        stop = time.time()\n",
    "        p2[\"time\"] = stop - start\n",
    "        estimated_parameters.append(p2)\n"
   ]
  },
  {
   "cell_type": "code",
   "execution_count": 1,
   "metadata": {
    "scrolled": true
   },
   "outputs": [
    {
     "ename": "NameError",
     "evalue": "name 'jax' is not defined",
     "output_type": "error",
     "traceback": [
      "\u001b[0;31m---------------------------------------------------------------------------\u001b[0m",
      "\u001b[0;31mNameError\u001b[0m                                 Traceback (most recent call last)",
      "Cell \u001b[0;32mIn[1], line 1\u001b[0m\n\u001b[0;32m----> 1\u001b[0m \u001b[43mjax\u001b[49m\u001b[38;5;241m.\u001b[39mconfig\u001b[38;5;241m.\u001b[39mupdate(\u001b[38;5;124m'\u001b[39m\u001b[38;5;124mjax_platform_name\u001b[39m\u001b[38;5;124m'\u001b[39m, \u001b[38;5;124m'\u001b[39m\u001b[38;5;124mcpu\u001b[39m\u001b[38;5;124m'\u001b[39m)\n\u001b[1;32m      3\u001b[0m \u001b[38;5;28;01mfor\u001b[39;00m p,images \u001b[38;5;129;01min\u001b[39;00m tqdm(\u001b[38;5;28mzip\u001b[39m(_df\u001b[38;5;241m.\u001b[39mto_dict(orient\u001b[38;5;241m=\u001b[39m\u001b[38;5;124m\"\u001b[39m\u001b[38;5;124mrecords\u001b[39m\u001b[38;5;124m\"\u001b[39m),_imagess),total\u001b[38;5;241m=\u001b[39m\u001b[38;5;28mlen\u001b[39m(_imagess)):\n\u001b[1;32m      4\u001b[0m     \u001b[38;5;28;01mfor\u001b[39;00m fitting_mode, smoothness_flatfield \u001b[38;5;129;01min\u001b[39;00m itertools\u001b[38;5;241m.\u001b[39mproduct(\n\u001b[1;32m      5\u001b[0m         [\u001b[38;5;124m\"\u001b[39m\u001b[38;5;124mladmap\u001b[39m\u001b[38;5;124m\"\u001b[39m],  \u001b[38;5;66;03m# fitting_mode\u001b[39;00m\n\u001b[1;32m      6\u001b[0m         \u001b[38;5;28mlist\u001b[39m(np\u001b[38;5;241m.\u001b[39mlogspace(\u001b[38;5;241m-\u001b[39m\u001b[38;5;241m3\u001b[39m, \u001b[38;5;241m1\u001b[39m, \u001b[38;5;241m3\u001b[39m)),  \u001b[38;5;66;03m# smoothness_flatfield\u001b[39;00m\n\u001b[1;32m      7\u001b[0m     ):\n\u001b[1;32m      8\u001b[0m         \u001b[38;5;66;03m#print(fitting_mode, smoothness_flatfield)\u001b[39;00m\n",
      "\u001b[0;31mNameError\u001b[0m: name 'jax' is not defined"
     ]
    }
   ],
   "source": [
    "jax.config.update('jax_platform_name', 'cpu')\n",
    "\n",
    "for p,images in tqdm(zip(_df.to_dict(orient=\"records\"),_imagess),total=len(_imagess)):\n",
    "    for fitting_mode, smoothness_flatfield in itertools.product(\n",
    "        [\"ladmap\"],  # fitting_mode\n",
    "        list(np.logspace(-3, 1, 3)),  # smoothness_flatfield\n",
    "    ):\n",
    "        #print(fitting_mode, smoothness_flatfield)\n",
    "        p2 = p.copy()\n",
    "        p2.update({\n",
    "            \"fitting_mode\": fitting_mode,\n",
    "            \"smoothness_flatfield\": smoothness_flatfield,\n",
    "            \"accerelator\": \"cpu\",\n",
    "        })\n",
    "        b.fitting_mode=fitting_mode\n",
    "        b.smoothness_flatfield=smoothness_flatfield\n",
    "        start = time.time()\n",
    "        b.fit(np.array(images))\n",
    "        stop = time.time()\n",
    "        p2[\"time\"] = stop - start\n",
    "        estimated_parameters.append(p2)"
   ]
  },
  {
   "cell_type": "code",
   "execution_count": null,
   "metadata": {},
   "outputs": [],
   "source": [
    "estimated_parameters_df = pd.DataFrame.from_records(estimated_parameters).reset_index(drop=True)\n",
    "estimated_parameters_df.to_csv(\"synthesized_data_time_benchmark.csv\")"
   ]
  },
  {
   "cell_type": "code",
   "execution_count": null,
   "metadata": {},
   "outputs": [],
   "source": []
  }
 ],
 "metadata": {
  "kernelspec": {
   "display_name": "Python 3 (ipykernel)",
   "language": "python",
   "name": "python3"
  },
  "language_info": {
   "codemirror_mode": {
    "name": "ipython",
    "version": 3
   },
   "file_extension": ".py",
   "mimetype": "text/x-python",
   "name": "python",
   "nbconvert_exporter": "python",
   "pygments_lexer": "ipython3",
   "version": "3.10.12"
  }
 },
 "nbformat": 4,
 "nbformat_minor": 4
}
