{
 "cells": [
  {
   "cell_type": "code",
   "execution_count": 2,
   "metadata": {},
   "outputs": [
    {
     "name": "stdout",
     "output_type": "stream",
     "text": [
      "Collecting git+https://github.com/yfukai/BaSiCPy@autosegment\n",
      "  Cloning https://github.com/yfukai/BaSiCPy (to revision autosegment) to /tmp/pip-req-build-i9waw88g\n",
      "  Running command git clone --filter=blob:none --quiet https://github.com/yfukai/BaSiCPy /tmp/pip-req-build-i9waw88g\n",
      "  Running command git checkout -b autosegment --track origin/autosegment\n",
      "  Switched to a new branch 'autosegment'\n",
      "  Branch 'autosegment' set up to track remote branch 'autosegment' from 'origin'.\n",
      "  Resolved https://github.com/yfukai/BaSiCPy to commit 2ebf6939a94919fca8271185e38d0600fb7c1140\n",
      "  Installing build dependencies ... \u001b[?25ldone\n",
      "\u001b[?25h  Getting requirements to build wheel ... \u001b[?25ldone\n",
      "\u001b[?25h  Preparing metadata (pyproject.toml) ... \u001b[?25ldone\n",
      "\u001b[?25hRequirement already satisfied: hyperactive>=4.4.0 in /home/fukai/.pyenv/versions/miniconda3-4.7.12/envs/basicpy/lib/python3.10/site-packages (from BaSiCPy==1.1.0) (4.4.3)\n",
      "Requirement already satisfied: jax>=0.3.10 in /home/fukai/.pyenv/versions/miniconda3-4.7.12/envs/basicpy/lib/python3.10/site-packages (from BaSiCPy==1.1.0) (0.4.13)\n",
      "Requirement already satisfied: jaxlib>=0.3.10 in /home/fukai/.pyenv/versions/miniconda3-4.7.12/envs/basicpy/lib/python3.10/site-packages (from BaSiCPy==1.1.0) (0.4.13+cuda11.cudnn86)\n",
      "Requirement already satisfied: numpy in /home/fukai/.pyenv/versions/miniconda3-4.7.12/envs/basicpy/lib/python3.10/site-packages (from BaSiCPy==1.1.0) (1.25.0)\n",
      "Requirement already satisfied: pooch in /home/fukai/.pyenv/versions/miniconda3-4.7.12/envs/basicpy/lib/python3.10/site-packages (from BaSiCPy==1.1.0) (1.7.0)\n",
      "Requirement already satisfied: pydantic<2.0.0,>=1.9.1 in /home/fukai/.pyenv/versions/miniconda3-4.7.12/envs/basicpy/lib/python3.10/site-packages (from BaSiCPy==1.1.0) (1.10.11)\n",
      "Requirement already satisfied: scikit-image in /home/fukai/.pyenv/versions/miniconda3-4.7.12/envs/basicpy/lib/python3.10/site-packages (from BaSiCPy==1.1.0) (0.21.0)\n",
      "Requirement already satisfied: scipy in /home/fukai/.pyenv/versions/miniconda3-4.7.12/envs/basicpy/lib/python3.10/site-packages (from BaSiCPy==1.1.0) (1.11.1)\n",
      "Requirement already satisfied: tqdm<5.0.0,>=4.48.0 in /home/fukai/.pyenv/versions/miniconda3-4.7.12/envs/basicpy/lib/python3.10/site-packages (from hyperactive>=4.4.0->BaSiCPy==1.1.0) (4.65.0)\n",
      "Requirement already satisfied: pandas<2.0.0 in /home/fukai/.pyenv/versions/miniconda3-4.7.12/envs/basicpy/lib/python3.10/site-packages (from hyperactive>=4.4.0->BaSiCPy==1.1.0) (1.5.3)\n",
      "Requirement already satisfied: gradient-free-optimizers<2.0.0,>=1.2.4 in /home/fukai/.pyenv/versions/miniconda3-4.7.12/envs/basicpy/lib/python3.10/site-packages (from hyperactive>=4.4.0->BaSiCPy==1.1.0) (1.3.0)\n",
      "Requirement already satisfied: ml-dtypes>=0.1.0 in /home/fukai/.pyenv/versions/miniconda3-4.7.12/envs/basicpy/lib/python3.10/site-packages (from jax>=0.3.10->BaSiCPy==1.1.0) (0.2.0)\n",
      "Requirement already satisfied: opt-einsum in /home/fukai/.pyenv/versions/miniconda3-4.7.12/envs/basicpy/lib/python3.10/site-packages (from jax>=0.3.10->BaSiCPy==1.1.0) (3.3.0)\n",
      "Requirement already satisfied: typing-extensions>=4.2.0 in /home/fukai/.pyenv/versions/miniconda3-4.7.12/envs/basicpy/lib/python3.10/site-packages (from pydantic<2.0.0,>=1.9.1->BaSiCPy==1.1.0) (4.6.3)\n",
      "Requirement already satisfied: platformdirs>=2.5.0 in /home/fukai/.pyenv/versions/miniconda3-4.7.12/envs/basicpy/lib/python3.10/site-packages (from pooch->BaSiCPy==1.1.0) (2.5.2)\n",
      "Requirement already satisfied: packaging>=20.0 in /home/fukai/.pyenv/versions/miniconda3-4.7.12/envs/basicpy/lib/python3.10/site-packages (from pooch->BaSiCPy==1.1.0) (23.0)\n",
      "Requirement already satisfied: requests>=2.19.0 in /home/fukai/.pyenv/versions/miniconda3-4.7.12/envs/basicpy/lib/python3.10/site-packages (from pooch->BaSiCPy==1.1.0) (2.29.0)\n",
      "Requirement already satisfied: networkx>=2.8 in /home/fukai/.pyenv/versions/miniconda3-4.7.12/envs/basicpy/lib/python3.10/site-packages (from scikit-image->BaSiCPy==1.1.0) (3.1)\n",
      "Requirement already satisfied: pillow>=9.0.1 in /home/fukai/.pyenv/versions/miniconda3-4.7.12/envs/basicpy/lib/python3.10/site-packages (from scikit-image->BaSiCPy==1.1.0) (9.4.0)\n",
      "Requirement already satisfied: imageio>=2.27 in /home/fukai/.pyenv/versions/miniconda3-4.7.12/envs/basicpy/lib/python3.10/site-packages (from scikit-image->BaSiCPy==1.1.0) (2.31.1)\n",
      "Requirement already satisfied: tifffile>=2022.8.12 in /home/fukai/.pyenv/versions/miniconda3-4.7.12/envs/basicpy/lib/python3.10/site-packages (from scikit-image->BaSiCPy==1.1.0) (2023.7.4)\n",
      "Requirement already satisfied: PyWavelets>=1.1.1 in /home/fukai/.pyenv/versions/miniconda3-4.7.12/envs/basicpy/lib/python3.10/site-packages (from scikit-image->BaSiCPy==1.1.0) (1.4.1)\n",
      "Requirement already satisfied: lazy_loader>=0.2 in /home/fukai/.pyenv/versions/miniconda3-4.7.12/envs/basicpy/lib/python3.10/site-packages (from scikit-image->BaSiCPy==1.1.0) (0.3)\n",
      "Requirement already satisfied: scikit-learn!=0.23.*,>=0.21 in /home/fukai/.pyenv/versions/miniconda3-4.7.12/envs/basicpy/lib/python3.10/site-packages (from gradient-free-optimizers<2.0.0,>=1.2.4->hyperactive>=4.4.0->BaSiCPy==1.1.0) (1.3.0)\n",
      "Requirement already satisfied: python-dateutil>=2.8.1 in /home/fukai/.pyenv/versions/miniconda3-4.7.12/envs/basicpy/lib/python3.10/site-packages (from pandas<2.0.0->hyperactive>=4.4.0->BaSiCPy==1.1.0) (2.8.2)\n",
      "Requirement already satisfied: pytz>=2020.1 in /home/fukai/.pyenv/versions/miniconda3-4.7.12/envs/basicpy/lib/python3.10/site-packages (from pandas<2.0.0->hyperactive>=4.4.0->BaSiCPy==1.1.0) (2022.7)\n",
      "Requirement already satisfied: charset-normalizer<4,>=2 in /home/fukai/.pyenv/versions/miniconda3-4.7.12/envs/basicpy/lib/python3.10/site-packages (from requests>=2.19.0->pooch->BaSiCPy==1.1.0) (2.0.4)\n",
      "Requirement already satisfied: idna<4,>=2.5 in /home/fukai/.pyenv/versions/miniconda3-4.7.12/envs/basicpy/lib/python3.10/site-packages (from requests>=2.19.0->pooch->BaSiCPy==1.1.0) (3.4)\n",
      "Requirement already satisfied: urllib3<1.27,>=1.21.1 in /home/fukai/.pyenv/versions/miniconda3-4.7.12/envs/basicpy/lib/python3.10/site-packages (from requests>=2.19.0->pooch->BaSiCPy==1.1.0) (1.26.16)\n",
      "Requirement already satisfied: certifi>=2017.4.17 in /home/fukai/.pyenv/versions/miniconda3-4.7.12/envs/basicpy/lib/python3.10/site-packages (from requests>=2.19.0->pooch->BaSiCPy==1.1.0) (2023.5.7)\n",
      "Requirement already satisfied: six>=1.5 in /home/fukai/.pyenv/versions/miniconda3-4.7.12/envs/basicpy/lib/python3.10/site-packages (from python-dateutil>=2.8.1->pandas<2.0.0->hyperactive>=4.4.0->BaSiCPy==1.1.0) (1.16.0)\n",
      "Requirement already satisfied: joblib>=1.1.1 in /home/fukai/.pyenv/versions/miniconda3-4.7.12/envs/basicpy/lib/python3.10/site-packages (from scikit-learn!=0.23.*,>=0.21->gradient-free-optimizers<2.0.0,>=1.2.4->hyperactive>=4.4.0->BaSiCPy==1.1.0) (1.3.1)\n",
      "Requirement already satisfied: threadpoolctl>=2.0.0 in /home/fukai/.pyenv/versions/miniconda3-4.7.12/envs/basicpy/lib/python3.10/site-packages (from scikit-learn!=0.23.*,>=0.21->gradient-free-optimizers<2.0.0,>=1.2.4->hyperactive>=4.4.0->BaSiCPy==1.1.0) (3.1.0)\n",
      "Building wheels for collected packages: BaSiCPy\n",
      "  Building wheel for BaSiCPy (pyproject.toml) ... \u001b[?25ldone\n",
      "\u001b[?25h  Created wheel for BaSiCPy: filename=BaSiCPy-1.1.0-py3-none-any.whl size=24603 sha256=14b561303fb9d70d3b667e58ae0dc70a3a49ebe8b0f29febcfa339c278965488\n",
      "  Stored in directory: /tmp/pip-ephem-wheel-cache-7lkhhr35/wheels/01/7f/b0/c1f8ae9c14413f3fb55a0d9c82e7868e7bf31b4de043e9ab8f\n",
      "Successfully built BaSiCPy\n",
      "Installing collected packages: BaSiCPy\n",
      "  Attempting uninstall: BaSiCPy\n",
      "    Found existing installation: BaSiCPy 1.1.0\n",
      "    Uninstalling BaSiCPy-1.1.0:\n",
      "      Successfully uninstalled BaSiCPy-1.1.0\n",
      "Successfully installed BaSiCPy-1.1.0\n",
      "Note: you may need to restart the kernel to use updated packages.\n"
     ]
    }
   ],
   "source": [
    "%pip install git+https://github.com/yfukai/BaSiCPy@autosegment"
   ]
  },
  {
   "cell_type": "markdown",
   "metadata": {},
   "source": [
    "# Install and import "
   ]
  },
  {
   "cell_type": "code",
   "execution_count": 6,
   "metadata": {},
   "outputs": [],
   "source": [
    "workdir = \"/work/fukai/basicpy\"\n",
    "os.makedirs(workdir,exist_ok = True)"
   ]
  },
  {
   "cell_type": "code",
   "execution_count": 3,
   "metadata": {},
   "outputs": [],
   "source": [
    "import numpy as np\n",
    "import pandas as pd\n",
    "from basicpy import BaSiC, datasets, metrics\n",
    "from itertools import product\n",
    "from tqdm import tqdm\n",
    "from matplotlib import pyplot as plt\n",
    "import pickle \n",
    "from os import path\n",
    "from skimage import filters\n",
    "\n",
    "plt.rcParams[\"font.family\"] = \"\""
   ]
  },
  {
   "cell_type": "code",
   "execution_count": null,
   "metadata": {},
   "outputs": [],
   "source": [
    "with open(path.join(workdir,\"wo_darkfield_imagess.pickle\"),\"rb\") as f:\n",
    "    imagess=pickle.load(f)"
   ]
  },
  {
   "cell_type": "code",
   "execution_count": null,
   "metadata": {},
   "outputs": [],
   "source": [
    "parameters_df=pd.read_csv(path.join(workdir,\"wo_darkfield_parameters.csv\"))"
   ]
  },
  {
   "cell_type": "code",
   "execution_count": null,
   "metadata": {
    "scrolled": true
   },
   "outputs": [],
   "source": [
    "flatfields = []\n",
    "baselines = []\n",
    "b = BaSiC(\n",
    "    get_darkfield=False,\n",
    ")\n",
    "estimated_parameters = []\n",
    "for p,images in tqdm(zip(parameters_df.to_dict(orient=\"records\"),imagess),total=len(imagess)):\n",
    "    for fitting_mode, smoothness_flatfield in product(\n",
    "        [\"ladmap\", \"approximate\"],  # fitting_mode\n",
    "        list(np.logspace(-3, 1, 7)),  # smoothness_flatfield\n",
    "    ):\n",
    "        p2 = p.copy()\n",
    "        p2.update({\n",
    "            \"fitting_mode\": fitting_mode,\n",
    "            \"smoothness_flatfield\": smoothness_flatfield,\n",
    "        })\n",
    "        b.fitting_mode=fitting_mode\n",
    "        b.smoothness_flatfield=smoothness_flatfield\n",
    "        b.fit(images)\n",
    "        flatfields.append(b.flatfield)\n",
    "        baselines.append(b.baseline)\n",
    "        estimated_parameters.append(p2)\n",
    "estimated_parameters_df = pd.DataFrame.from_records(estimated_parameters).reset_index(drop=True)"
   ]
  },
  {
   "cell_type": "code",
   "execution_count": null,
   "metadata": {},
   "outputs": [],
   "source": [
    "np.save(\"flatfields.npy\",flatfields)"
   ]
  },
  {
   "cell_type": "markdown",
   "metadata": {},
   "source": [
    "# Calculate deviation"
   ]
  },
  {
   "cell_type": "code",
   "execution_count": 29,
   "metadata": {},
   "outputs": [],
   "source": [
    "flatfields = np.load(\"flatfields.npy\")"
   ]
  },
  {
   "cell_type": "code",
   "execution_count": 35,
   "metadata": {},
   "outputs": [],
   "source": [
    "assert len(estimated_parameters_df) == len(flatfields)"
   ]
  },
  {
   "cell_type": "code",
   "execution_count": 36,
   "metadata": {},
   "outputs": [],
   "source": [
    "for (i, row), flatfield in zip(estimated_parameters_df.iterrows(),flatfields):\n",
    "    estimated_parameters_df.loc[i,\"deviation\"] = np.mean(np.abs(flatfield - flatfield_profiles[row[\"true_flatfield_id\"]]))"
   ]
  },
  {
   "cell_type": "code",
   "execution_count": 37,
   "metadata": {},
   "outputs": [],
   "source": [
    "if \"Unnamed: 0\" in estimated_parameters_df.keys():\n",
    "    del estimated_parameters_df[\"Unnamed: 0\"]"
   ]
  },
  {
   "cell_type": "code",
   "execution_count": 38,
   "metadata": {},
   "outputs": [
    {
     "data": {
      "text/html": [
       "<div>\n",
       "<style scoped>\n",
       "    .dataframe tbody tr th:only-of-type {\n",
       "        vertical-align: middle;\n",
       "    }\n",
       "\n",
       "    .dataframe tbody tr th {\n",
       "        vertical-align: top;\n",
       "    }\n",
       "\n",
       "    .dataframe thead th {\n",
       "        text-align: right;\n",
       "    }\n",
       "</style>\n",
       "<table border=\"1\" class=\"dataframe\">\n",
       "  <thead>\n",
       "    <tr style=\"text-align: right;\">\n",
       "      <th></th>\n",
       "      <th>true_flatfield_id</th>\n",
       "      <th>intensity</th>\n",
       "      <th>ave_count</th>\n",
       "      <th>n_images</th>\n",
       "      <th>blob_dist_key</th>\n",
       "      <th>rep</th>\n",
       "      <th>fitting_mode</th>\n",
       "      <th>smoothness_flatfield</th>\n",
       "      <th>deviation</th>\n",
       "    </tr>\n",
       "  </thead>\n",
       "  <tbody>\n",
       "    <tr>\n",
       "      <th>0</th>\n",
       "      <td>0</td>\n",
       "      <td>10</td>\n",
       "      <td>10</td>\n",
       "      <td>10</td>\n",
       "      <td>biased</td>\n",
       "      <td>0</td>\n",
       "      <td>ladmap</td>\n",
       "      <td>0.001000</td>\n",
       "      <td>0.036881</td>\n",
       "    </tr>\n",
       "    <tr>\n",
       "      <th>1</th>\n",
       "      <td>0</td>\n",
       "      <td>10</td>\n",
       "      <td>10</td>\n",
       "      <td>10</td>\n",
       "      <td>biased</td>\n",
       "      <td>0</td>\n",
       "      <td>ladmap</td>\n",
       "      <td>0.004642</td>\n",
       "      <td>0.036452</td>\n",
       "    </tr>\n",
       "    <tr>\n",
       "      <th>2</th>\n",
       "      <td>0</td>\n",
       "      <td>10</td>\n",
       "      <td>10</td>\n",
       "      <td>10</td>\n",
       "      <td>biased</td>\n",
       "      <td>0</td>\n",
       "      <td>ladmap</td>\n",
       "      <td>0.021544</td>\n",
       "      <td>0.033683</td>\n",
       "    </tr>\n",
       "    <tr>\n",
       "      <th>3</th>\n",
       "      <td>0</td>\n",
       "      <td>10</td>\n",
       "      <td>10</td>\n",
       "      <td>10</td>\n",
       "      <td>biased</td>\n",
       "      <td>0</td>\n",
       "      <td>ladmap</td>\n",
       "      <td>0.100000</td>\n",
       "      <td>0.029211</td>\n",
       "    </tr>\n",
       "    <tr>\n",
       "      <th>4</th>\n",
       "      <td>0</td>\n",
       "      <td>10</td>\n",
       "      <td>10</td>\n",
       "      <td>10</td>\n",
       "      <td>biased</td>\n",
       "      <td>0</td>\n",
       "      <td>ladmap</td>\n",
       "      <td>0.464159</td>\n",
       "      <td>0.018625</td>\n",
       "    </tr>\n",
       "  </tbody>\n",
       "</table>\n",
       "</div>"
      ],
      "text/plain": [
       "   true_flatfield_id  intensity  ave_count  n_images blob_dist_key  rep  \\\n",
       "0                  0         10         10        10        biased    0   \n",
       "1                  0         10         10        10        biased    0   \n",
       "2                  0         10         10        10        biased    0   \n",
       "3                  0         10         10        10        biased    0   \n",
       "4                  0         10         10        10        biased    0   \n",
       "\n",
       "  fitting_mode  smoothness_flatfield  deviation  \n",
       "0       ladmap              0.001000   0.036881  \n",
       "1       ladmap              0.004642   0.036452  \n",
       "2       ladmap              0.021544   0.033683  \n",
       "3       ladmap              0.100000   0.029211  \n",
       "4       ladmap              0.464159   0.018625  "
      ]
     },
     "execution_count": 38,
     "metadata": {},
     "output_type": "execute_result"
    }
   ],
   "source": [
    "estimated_parameters_df.to_csv(\"wo_flatfield_estimated_parameters_df.csv\")\n",
    "estimated_parameters_df.head()"
   ]
  },
  {
   "cell_type": "code",
   "execution_count": null,
   "metadata": {},
   "outputs": [],
   "source": [
    "estimated_parameters_df = pd.read_csv(\"wo_flatfield_estimated_parameters_df.csv\")"
   ]
  },
  {
   "cell_type": "code",
   "execution_count": 39,
   "metadata": {},
   "outputs": [
    {
     "data": {
      "text/plain": [
       "Index(['true_flatfield_id', 'intensity', 'ave_count', 'n_images',\n",
       "       'blob_dist_key', 'rep', 'fitting_mode', 'smoothness_flatfield',\n",
       "       'deviation'],\n",
       "      dtype='object')"
      ]
     },
     "execution_count": 39,
     "metadata": {},
     "output_type": "execute_result"
    }
   ],
   "source": [
    "estimated_parameters_df.keys()"
   ]
  },
  {
   "cell_type": "code",
   "execution_count": 40,
   "metadata": {},
   "outputs": [],
   "source": [
    "res_dir = \"figs/wo_darkfields/\"\n",
    "os.makedirs(res_dir,exist_ok=True)"
   ]
  },
  {
   "cell_type": "markdown",
   "metadata": {},
   "source": [
    "# Plot profiles"
   ]
  },
  {
   "cell_type": "code",
   "execution_count": null,
   "metadata": {},
   "outputs": [],
   "source": [
    "for (intensity, ave_count, n_images, blob_dist_key), grp in tqdm(estimated_parameters_df.groupby([\"intensity\", \"ave_count\", \"n_images\",\"blob_dist_key\"])):\n",
    "    df = grp[grp[\"rep\"]==0]\n",
    "    smoothness_flatfields=df[\"smoothness_flatfield\"].unique()\n",
    "    ncol = len(smoothness_flatfields)\n",
    "    nrow = int(len(df) / ncol)\n",
    "    fig, axes = plt.subplots(nrow,ncol, figsize=(2*ncol,2*nrow))\n",
    "    for irow, ((fitting_mode, true_flatfield_id), grp2) in enumerate(df.groupby([\"fitting_mode\",\"true_flatfield_id\"])):\n",
    "        df2=grp2.sort_values([\"smoothness_flatfield\",])\n",
    "        assert len(axes[irow,:]) == len(df2)\n",
    "        for ax, (j, row) in zip(axes[irow,:],df2.iterrows()):\n",
    "            ax.imshow(flatfields[j])\n",
    "            #ax.axis(\"off\")\n",
    "        axes[irow,0].set_ylabel(f\"{fitting_mode}\\nflatfield #{true_flatfield_id}\",rotation=90)\n",
    "    fig.tight_layout()\n",
    "    fig.savefig(os.path.join(res_dir,f\"intensity_{intensity}_ave-count_{ave_count}_n-images{n_images}_blob-dist_{blob_dist_key}.png\"),bbox_inches=\"tight\")"
   ]
  }
 ],
 "metadata": {
  "kernelspec": {
   "display_name": "Python 3 (ipykernel)",
   "language": "python",
   "name": "python3"
  },
  "language_info": {
   "codemirror_mode": {
    "name": "ipython",
    "version": 3
   },
   "file_extension": ".py",
   "mimetype": "text/x-python",
   "name": "python",
   "nbconvert_exporter": "python",
   "pygments_lexer": "ipython3",
   "version": "3.10.12"
  }
 },
 "nbformat": 4,
 "nbformat_minor": 4
}
