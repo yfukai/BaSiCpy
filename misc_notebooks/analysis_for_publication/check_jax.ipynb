{
 "cells": [
  {
   "cell_type": "code",
   "execution_count": 1,
   "id": "c393bafa-08ef-41c4-9221-ab561ea8b46b",
   "metadata": {},
   "outputs": [],
   "source": [
    "import jax"
   ]
  },
  {
   "cell_type": "code",
   "execution_count": 2,
   "id": "92e104e8-165f-4080-894f-01b237ab55d3",
   "metadata": {},
   "outputs": [],
   "source": [
    "_ = jax.device_put(jax.numpy.ones(1), device=jax.devices('gpu')[0])"
   ]
  },
  {
   "cell_type": "code",
   "execution_count": null,
   "id": "9d5902bf-5d43-462b-a77f-825b9bebcc6d",
   "metadata": {},
   "outputs": [],
   "source": []
  }
 ],
 "metadata": {
  "kernelspec": {
   "display_name": "Python 3 (ipykernel)",
   "language": "python",
   "name": "python3"
  },
  "language_info": {
   "codemirror_mode": {
    "name": "ipython",
    "version": 3
   },
   "file_extension": ".py",
   "mimetype": "text/x-python",
   "name": "python",
   "nbconvert_exporter": "python",
   "pygments_lexer": "ipython3",
   "version": "3.10.8"
  }
 },
 "nbformat": 4,
 "nbformat_minor": 5
}
