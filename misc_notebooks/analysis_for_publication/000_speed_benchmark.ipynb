{
 "cells": [
  {
   "cell_type": "code",
   "execution_count": 1,
   "metadata": {},
   "outputs": [],
   "source": [
    "import basicpy\n",
    "from basicpy import datasets\n",
    "from matplotlib import pyplot as plt\n",
    "from skimage import io\n",
    "from subprocess import check_output\n",
    "from pathlib import Path\n",
    "import pandas as pd\n",
    "import time"
   ]
  },
  {
   "cell_type": "code",
   "execution_count": 2,
   "metadata": {},
   "outputs": [],
   "source": [
    "basedir = Path(\"/work/fukai/basicpy/BaSiCPy/misc_notebooks/analysis_for_publication/\")\n",
    "imagedir = basedir/\"testdata_for_imagej\""
   ]
  },
  {
   "cell_type": "code",
   "execution_count": 7,
   "metadata": {},
   "outputs": [
    {
     "name": "stdout",
     "output_type": "stream",
     "text": [
      "/work/fukai/basicpy/BaSiCPy/misc_notebooks/analysis_for_publication/testdata_for_imagej/cell_culture.tif\n"
     ]
    },
    {
     "name": "stderr",
     "output_type": "stream",
     "text": [
      "OpenJDK 64-Bit Server VM warning: ignoring option PermSize=128m; support was removed in 8.0\n",
      "OpenJDK 64-Bit Server VM warning: Using incremental CMS is deprecated and will likely be removed in a future release\n"
     ]
    }
   ],
   "source": [
    "fitting_res = []\n",
    "\n",
    "for trial in range(10):\n",
    "    for name in datasets.RESCALED_TEST_DATA_PROPS.keys():\n",
    "        images = datasets.fetch(name)\n",
    "        filepath=str(imagedir/f\"{name}.tif\")\n",
    "        io.imsave(filepath, images)\n",
    "        print(filepath)\n",
    "        for get_darkfield in [False, True]:\n",
    "            res = check_output([\n",
    "                f\"/opt/Fiji.app/ImageJ-linux64 --headless --run imagej_macro.py \\\"filename='{filepath}', get_darkfield={1 if get_darkfield else 0}\\\"\"\n",
    "            ],shell=True)\n",
    "            lines = [l for l in res.decode().split(\"\\n\") if l.startswith(\"erapsed time\")]\n",
    "            assert len(lines) == 1\n",
    "            erapsed_time = float(lines[0].split(\":\")[1])\n",
    "            print(name,erapsed_time)\n",
    "            fitting_res.append({\n",
    "                \"image_name\": name,\n",
    "                \"trial\": trial,\n",
    "                \"method\":\"ImageJ BaSiC\",\n",
    "                \"get_darkfield\": get_darkfield,\n",
    "                \"erapsed_time\": erapsed_time\n",
    "            })\n",
    "fitting_res_df = pd.DataFrame.from_records(fitting_res)\n",
    "fitting_res_df.to_csv(\"imagej_benchmark.csv\")"
   ]
  },
  {
   "cell_type": "code",
   "execution_count": null,
   "metadata": {},
   "outputs": [
    {
     "data": {
      "text/plain": [
       "15.0010001659"
      ]
     },
     "execution_count": 73,
     "metadata": {},
     "output_type": "execute_result"
    }
   ],
   "source": [
    "import jax\n",
    "jax.config.update('jax_platform_name', 'gpu')\n",
    "\n",
    "fitting_res = []\n",
    "for trial in range(10):\n",
    "    for name in datasets.RESCALED_TEST_DATA_PROPS.keys():\n",
    "        images = datasets.fetch(name)\n",
    "        for get_darkfield in [False, True]:\n",
    "            b = basicpy.BaSiC(fitting_mode=\"approximate\",get_darkfield=get_darkfield)\n",
    "            b.fit(images)\n",
    "            start = time.time()\n",
    "            b.fit(images)\n",
    "            stop = time.time()\n",
    "            erapsed_time = stop - start\n",
    "            suffix = \"with_darkfield\" if get_darkfield else \"no_darkfield\"\n",
    "            io.imsave(imagedir/f\"jax_gpu_{name}_flatfield_{suffix}.tif\",b.flatfield)\n",
    "            io.imsave(imagedir/f\"jax_gpu_{name}_darkfield_{suffix}.tif\",b.darkfield)\n",
    "            fitting_res.append({\n",
    "                    \"image_name\": name,\n",
    "                    \"trial\": trial,\n",
    "                    \"method\":\"GPU BaSiCPy\",\n",
    "                    \"get_darkfield\": get_darkfield,\n",
    "                    \"erapsed_time\": erapsed_time\n",
    "            })\n",
    "fitting_res_df2 = pd.DataFrame.from_records(fitting_res)\n",
    "fitting_res_df2.to_csv(\"gpu_benchmark.csv\")"
   ]
  },
  {
   "cell_type": "code",
   "execution_count": null,
   "metadata": {},
   "outputs": [],
   "source": [
    "import jax\n",
    "jax.config.update('jax_platform_name', 'cpu')\n",
    "fitting_res = []\n",
    "for trial in range(10):\n",
    "    for name in datasets.RESCALED_TEST_DATA_PROPS.keys():\n",
    "        images = datasets.fetch(name)\n",
    "        for get_darkfield in [False, True]:\n",
    "            b = basicpy.BaSiC(fitting_mode=\"approximate\",get_darkfield=get_darkfield)\n",
    "            b.fit(images)\n",
    "            start = time.time()\n",
    "            b.fit(images)\n",
    "            stop = time.time()\n",
    "            erapsed_time = stop - start\n",
    "            suffix = \"with_darkfield\" if get_darkfield else \"no_darkfield\"\n",
    "            io.imsave(imagedir/f\"jax_gpu_{name}_flatfield_{suffix}.tif\",b.flatfield)\n",
    "            io.imsave(imagedir/f\"jax_gpu_{name}_darkfield_{suffix}.tif\",b.darkfield)\n",
    "            fitting_res.append({\n",
    "                    \"image_name\": name,\n",
    "                    \"trial\": trial,\n",
    "                    \"method\":\"CPU BaSiCPy\",\n",
    "                    \"get_darkfield\": get_darkfield,\n",
    "                    \"erapsed_time\": erapsed_time\n",
    "            })\n",
    "fitting_res_df3 = pd.DataFrame.from_records(fitting_res)\n",
    "fitting_res_df3.to_csv(\"cpu_benchmark.csv\")"
   ]
  },
  {
   "cell_type": "code",
   "execution_count": null,
   "metadata": {},
   "outputs": [],
   "source": [
    "fitting_res_df_all = pd.concat([\n",
    "    fitting_res_df,\n",
    "    fitting_res_df2,\n",
    "    fitting_res_df3\n",
    "])"
   ]
  },
  {
   "cell_type": "code",
   "execution_count": null,
   "metadata": {},
   "outputs": [],
   "source": [
    "fitting_res_df_all.to_csv(\"time_benchmark.csv\")"
   ]
  },
  {
   "cell_type": "code",
   "execution_count": null,
   "metadata": {},
   "outputs": [],
   "source": []
  }
 ],
 "metadata": {
  "kernelspec": {
   "display_name": "basicpy",
   "language": "python",
   "name": "python3"
  },
  "language_info": {
   "codemirror_mode": {
    "name": "ipython",
    "version": 3
   },
   "file_extension": ".py",
   "mimetype": "text/x-python",
   "name": "python",
   "nbconvert_exporter": "python",
   "pygments_lexer": "ipython3",
   "version": "3.10.12"
  },
  "orig_nbformat": 4
 },
 "nbformat": 4,
 "nbformat_minor": 2
}
