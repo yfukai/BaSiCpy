{
 "cells": [
  {
   "cell_type": "code",
   "execution_count": 1,
   "metadata": {
    "scrolled": true,
    "tags": []
   },
   "outputs": [],
   "source": [
    "#%pip install matplotlib ray\n",
    "#!pip freeze | grep jax\n",
    "#%pip install jax==0.3.22 jaxlib==0.3.22+cuda11.cudnn805 -f https://storage.googleapis.com/jax-releases/jax_cuda_releases.html"
   ]
  },
  {
   "cell_type": "markdown",
   "metadata": {},
   "source": [
    "# Install and import "
   ]
  },
  {
   "cell_type": "code",
   "execution_count": 2,
   "metadata": {
    "tags": []
   },
   "outputs": [],
   "source": [
    "import os\n",
    "\n",
    "os.environ[\"XLA_PYTHON_CLIENT_PREALLOCATE\"] = \"false\""
   ]
  },
  {
   "cell_type": "code",
   "execution_count": 3,
   "metadata": {
    "tags": []
   },
   "outputs": [],
   "source": [
    "import os"
   ]
  },
  {
   "cell_type": "code",
   "execution_count": 4,
   "metadata": {
    "tags": []
   },
   "outputs": [],
   "source": [
    "from tqdm import tqdm\n",
    "\n",
    "\n",
    "def to_iterator(obj_ids):\n",
    "    while obj_ids:\n",
    "        done, obj_ids = ray.wait(obj_ids)\n",
    "        yield ray.get(done[0])\n",
    "\n",
    "\n",
    "def show_ray_progress(res):\n",
    "    for x in tqdm(to_iterator(res), total=len(res)):\n",
    "        pass\n",
    "    return ray.get(res)"
   ]
  },
  {
   "cell_type": "code",
   "execution_count": 5,
   "metadata": {
    "tags": []
   },
   "outputs": [],
   "source": [
    "workdir = \"/work/fukai/basicpy\"\n",
    "os.makedirs(workdir, exist_ok=True)"
   ]
  },
  {
   "cell_type": "code",
   "execution_count": null,
   "metadata": {
    "tags": []
   },
   "outputs": [],
   "source": [
    "from jax.lib import xla_bridge\n",
    "\n",
    "print(xla_bridge.get_backend().platform)\n",
    "import jax\n",
    "\n",
    "jax.config.update(\"jax_platform_name\", \"gpu\")"
   ]
  },
  {
   "cell_type": "code",
   "execution_count": null,
   "metadata": {
    "tags": []
   },
   "outputs": [],
   "source": [
    "import numpy as np\n",
    "import pandas as pd\n",
    "from basicpy import BaSiC, datasets, metrics\n",
    "from itertools import product\n",
    "from tqdm import tqdm\n",
    "from matplotlib import pyplot as plt\n",
    "import pickle\n",
    "from os import path\n",
    "import time\n",
    "from skimage import filters\n",
    "\n",
    "plt.rcParams[\"font.family\"] = \"\""
   ]
  },
  {
   "cell_type": "code",
   "execution_count": 45,
   "metadata": {
    "tags": []
   },
   "outputs": [
    {
     "data": {
      "text/plain": [
       "\u001b[0;31mSignature:\u001b[0m\n",
       "\u001b[0mmetrics\u001b[0m\u001b[0;34m.\u001b[0m\u001b[0mfourier_L0_norm\u001b[0m\u001b[0;34m(\u001b[0m\u001b[0;34m\u001b[0m\n",
       "\u001b[0;34m\u001b[0m    \u001b[0mimage\u001b[0m\u001b[0;34m:\u001b[0m \u001b[0mnumpy\u001b[0m\u001b[0;34m.\u001b[0m\u001b[0mndarray\u001b[0m\u001b[0;34m,\u001b[0m\u001b[0;34m\u001b[0m\n",
       "\u001b[0;34m\u001b[0m    \u001b[0mthreshold\u001b[0m\u001b[0;34m:\u001b[0m \u001b[0mfloat\u001b[0m \u001b[0;34m=\u001b[0m \u001b[0;36m0.1\u001b[0m\u001b[0;34m,\u001b[0m\u001b[0;34m\u001b[0m\n",
       "\u001b[0;34m\u001b[0m    \u001b[0mfourier_radius\u001b[0m\u001b[0;34m:\u001b[0m \u001b[0mfloat\u001b[0m \u001b[0;34m=\u001b[0m \u001b[0;36m10\u001b[0m\u001b[0;34m,\u001b[0m\u001b[0;34m\u001b[0m\n",
       "\u001b[0;34m\u001b[0m    \u001b[0mexclude_edges\u001b[0m\u001b[0;34m:\u001b[0m \u001b[0mbool\u001b[0m \u001b[0;34m=\u001b[0m \u001b[0;32mTrue\u001b[0m\u001b[0;34m,\u001b[0m\u001b[0;34m\u001b[0m\n",
       "\u001b[0;34m\u001b[0m\u001b[0;34m)\u001b[0m\u001b[0;34m\u001b[0m\u001b[0;34m\u001b[0m\u001b[0m\n",
       "\u001b[0;31mDocstring:\u001b[0m <no docstring>\n",
       "\u001b[0;31mFile:\u001b[0m      ~/.pyenv/versions/miniconda3-4.7.12/envs/basicpy/lib/python3.10/site-packages/basicpy/metrics.py\n",
       "\u001b[0;31mType:\u001b[0m      function"
      ]
     },
     "metadata": {},
     "output_type": "display_data"
    }
   ],
   "source": [
    "metrics.fourier_L0_norm?"
   ]
  },
  {
   "cell_type": "markdown",
   "metadata": {
    "tags": []
   },
   "source": [
    "# Generate test data "
   ]
  },
  {
   "cell_type": "markdown",
   "metadata": {},
   "source": [
    "## Make parabola"
   ]
  },
  {
   "cell_type": "code",
   "execution_count": null,
   "metadata": {
    "scrolled": true,
    "tags": []
   },
   "outputs": [],
   "source": [
    "def generate_parabola(dim, coef, center):\n",
    "    sizes = [128] * dim\n",
    "    grid = np.array(\n",
    "        np.meshgrid(\n",
    "            *[\n",
    "                np.linspace(-size // 2 + 1 - c, size // 2 - c, size)\n",
    "                for (c, size) in zip(center, sizes)\n",
    "            ],\n",
    "            indexing=\"ij\"\n",
    "        )\n",
    "    )\n",
    "    gradient = np.sum(grid**2, axis=0)\n",
    "    gradient = coef * (np.max(gradient) - gradient) + 10\n",
    "    return gradient / gradient.mean()\n",
    "\n",
    "\n",
    "# Ground truth, for correctness checking\n",
    "\n",
    "params = [\n",
    "    (2, 0.0005, (0, 0)),\n",
    "    (2, 0.005, (0, 0)),\n",
    "    (2, 0.0005, (-20, -20)),\n",
    "    (2, 0.005, (-20, -20)),\n",
    "]\n",
    "\n",
    "flatfield_profiles = [generate_parabola(*ps) for ps in params]\n",
    "\n",
    "for p in flatfield_profiles:\n",
    "    plt.imshow(p)\n",
    "    plt.colorbar()\n",
    "    plt.show()"
   ]
  },
  {
   "cell_type": "markdown",
   "metadata": {},
   "source": [
    "## Make images with blobs "
   ]
  },
  {
   "cell_type": "markdown",
   "metadata": {},
   "source": [
    "aim ... add random (uncorrelated) object that show intensity profile different from the fitted flatfield, see how it affects the fitting quality"
   ]
  },
  {
   "cell_type": "code",
   "execution_count": null,
   "metadata": {
    "tags": []
   },
   "outputs": [],
   "source": [
    "blob_size = 2\n",
    "blob_dist = lambda: np.random.normal(0, 2)"
   ]
  },
  {
   "cell_type": "code",
   "execution_count": null,
   "metadata": {
    "tags": []
   },
   "outputs": [],
   "source": [
    "def generate_cluttered_images(\n",
    "    true_flatfield, intensity, n_images, ave_count, blob_dist\n",
    "):\n",
    "    poss = np.array(\n",
    "        [\n",
    "            [\n",
    "                np.random.uniform(\n",
    "                    -size // 2 + 1,\n",
    "                    size // 2,\n",
    "                )\n",
    "                for size in true_flatfield.shape\n",
    "            ]\n",
    "            for _ in range(np.random.poisson(ave_count))\n",
    "        ]\n",
    "    )\n",
    "\n",
    "    images = []\n",
    "    grid = np.array(\n",
    "        np.meshgrid(\n",
    "            *[\n",
    "                np.linspace(-size // 2 + 1, size // 2, size)\n",
    "                for size in true_flatfield.shape\n",
    "            ],\n",
    "            indexing=\"ij\"\n",
    "        )\n",
    "    )\n",
    "    for _ in range(n_images):\n",
    "        image = true_flatfield.copy()\n",
    "        for p in poss:\n",
    "            image += (\n",
    "                np.exp(\n",
    "                    -np.sum((grid - p[:, np.newaxis, np.newaxis]) ** 2, axis=0)\n",
    "                    / 2.0\n",
    "                    / blob_size**2\n",
    "                )\n",
    "                / np.sqrt(2 * np.pi * blob_size**2) ** 2\n",
    "                * blob_dist()\n",
    "            )\n",
    "        image = image * intensity\n",
    "        image = np.clip(image, 0, None)\n",
    "        image = filters.gaussian(np.random.poisson(image), sigma=1, preserve_range=True)\n",
    "        images.append(image)\n",
    "    return np.array(images)"
   ]
  },
  {
   "cell_type": "code",
   "execution_count": null,
   "metadata": {
    "tags": []
   },
   "outputs": [],
   "source": [
    "images = generate_cluttered_images(\n",
    "    flatfield_profiles[0], 100, 100, 100, lambda: np.random.normal(0, 5)\n",
    ")\n",
    "plt.imshow(images[0])\n",
    "plt.colorbar()"
   ]
  },
  {
   "cell_type": "code",
   "execution_count": null,
   "metadata": {
    "tags": []
   },
   "outputs": [],
   "source": [
    "jax.config.update(\"jax_platform_name\", \"gpu\")"
   ]
  },
  {
   "cell_type": "code",
   "execution_count": null,
   "metadata": {
    "tags": []
   },
   "outputs": [],
   "source": [
    "b = BaSiC(get_darkfield=False)\n",
    "b.fit(np.array(images))\n",
    "plt.subplot(121)\n",
    "plt.imshow(b.flatfield)\n",
    "plt.colorbar()\n",
    "plt.subplot(122)\n",
    "plt.imshow(b.flatfield / np.mean(b.flatfield) - flatfield_profiles[0])\n",
    "plt.colorbar()"
   ]
  },
  {
   "cell_type": "code",
   "execution_count": null,
   "metadata": {
    "tags": []
   },
   "outputs": [],
   "source": [
    "plt.imshow(np.median(images, axis=0))"
   ]
  },
  {
   "cell_type": "code",
   "execution_count": null,
   "metadata": {
    "scrolled": true,
    "tags": []
   },
   "outputs": [],
   "source": [
    "np.random.seed(202306)\n",
    "repeat = 100\n",
    "blob_dists = {\n",
    "    \"unbiased\": lambda: np.random.normal(0, 5),\n",
    "    \"biased\": lambda: np.random.normal(10, 5),\n",
    "}\n",
    "conditions = list(\n",
    "    product(\n",
    "        range(\n",
    "            len(flatfield_profiles)\n",
    "        ),  # true_flatfield_id (index of flatfield_profiles)\n",
    "        [10, 100, 1000],  # intensity\n",
    "        [0, 10, 100],  # ave_count\n",
    "        [10, 30, 100, 300, 1000],  # n_images\n",
    "        [\"biased\", \"unbiased\"],  # blob_dist_key\n",
    "        range(5),\n",
    "    )\n",
    ")\n",
    "\n",
    "parameters = []\n",
    "imagess = []\n",
    "for (true_flatfield_id, intensity, ave_count, n_images, blob_dist_key, rep) in tqdm(\n",
    "    conditions\n",
    "):\n",
    "    p = {\n",
    "        \"true_flatfield_id\": true_flatfield_id,\n",
    "        \"intensity\": intensity,\n",
    "        \"ave_count\": ave_count,\n",
    "        \"n_images\": n_images,\n",
    "        \"blob_dist_key\": blob_dist_key,\n",
    "        \"rep\": rep,\n",
    "    }\n",
    "    parameters.append(p)\n",
    "    imagess.append(\n",
    "        generate_cluttered_images(\n",
    "            flatfield_profiles[true_flatfield_id],\n",
    "            intensity=intensity,\n",
    "            n_images=n_images,\n",
    "            ave_count=ave_count,\n",
    "            blob_dist=blob_dists[blob_dist_key],\n",
    "        )\n",
    "    )"
   ]
  },
  {
   "cell_type": "code",
   "execution_count": null,
   "metadata": {
    "scrolled": true,
    "tags": []
   },
   "outputs": [],
   "source": [
    "# show_ray_progress(imagess)"
   ]
  },
  {
   "cell_type": "code",
   "execution_count": null,
   "metadata": {
    "tags": []
   },
   "outputs": [],
   "source": [
    "# imagess = ray.get(imagess)"
   ]
  },
  {
   "cell_type": "code",
   "execution_count": null,
   "metadata": {
    "tags": []
   },
   "outputs": [],
   "source": [
    "with open(path.join(workdir, \"wo_darkfield_imagess.pickle\"), \"wb\") as f:\n",
    "    pickle.dump(imagess, f)"
   ]
  },
  {
   "cell_type": "code",
   "execution_count": null,
   "metadata": {
    "scrolled": true,
    "tags": []
   },
   "outputs": [],
   "source": [
    "pd.DataFrame.from_records(parameters).to_csv(\n",
    "    path.join(workdir, \"wo_darkfield_parameters.csv\")\n",
    ")"
   ]
  },
  {
   "cell_type": "markdown",
   "metadata": {
    "tags": []
   },
   "source": [
    "# Fit images"
   ]
  },
  {
   "cell_type": "code",
   "execution_count": null,
   "metadata": {
    "tags": []
   },
   "outputs": [],
   "source": [
    "os.environ[\"XLA_PYTHON_CLIENT_PREALLOCATE\"]=\"false\""
   ]
  },
  {
   "cell_type": "code",
   "execution_count": null,
   "metadata": {
    "tags": []
   },
   "outputs": [],
   "source": [
    "with open(path.join(workdir, \"wo_darkfield_imagess.pickle\"), \"rb\") as f:\n",
    "    imagess = pickle.load(f)"
   ]
  },
  {
   "cell_type": "code",
   "execution_count": null,
   "metadata": {
    "tags": []
   },
   "outputs": [],
   "source": [
    "!mkdir -p wo_darkfield_imagess"
   ]
  },
  {
   "cell_type": "code",
   "execution_count": null,
   "metadata": {
    "tags": []
   },
   "outputs": [],
   "source": [
    "for j, images in enumerate(imagess):\n",
    "    np.save(f\"wo_darkfield_imagess/{j}.npy\", images)"
   ]
  },
  {
   "cell_type": "code",
   "execution_count": null,
   "metadata": {
    "tags": []
   },
   "outputs": [],
   "source": [
    "del imagess"
   ]
  },
  {
   "cell_type": "code",
   "execution_count": null,
   "metadata": {
    "tags": []
   },
   "outputs": [],
   "source": [
    "parameters_df = pd.read_csv(\n",
    "    path.join(workdir, \"wo_darkfield_parameters.csv\"), index_col=0\n",
    ")\n",
    "# parameters_df = parameters_df.iloc[:900]"
   ]
  },
  {
   "cell_type": "code",
   "execution_count": null,
   "metadata": {
    "tags": []
   },
   "outputs": [],
   "source": [
    "jax.config.update(\"jax_platform_name\", \"gpu\")"
   ]
  },
  {
   "cell_type": "code",
   "execution_count": null,
   "metadata": {
    "tags": []
   },
   "outputs": [],
   "source": [
    "# parameters_df = pd.DataFrame.from_records(parameters)\n",
    "# ind = (parameters_df[\"n_images\"]<900).values\n",
    "# parameters_df2 = parameters_df[ind].copy()\n",
    "# imagess2 = [imagess[ii] for ii in np.nonzero(ind)[0]]\n",
    "\"\"\"\n",
    "assert len(parameters_df2) == len(imagess2)\n",
    "with open(\"wo_darkfield_imagess2.pickle\",\"wb\") as f:\n",
    "    pickle.dump(imagess2,f)\n",
    "parameters_df2.to_csv(\"wo_darkfield_parameters2.csv\")\n",
    "\"\"\""
   ]
  },
  {
   "cell_type": "code",
   "execution_count": null,
   "metadata": {
    "tags": []
   },
   "outputs": [],
   "source": [
    "parameters_df[\"image_index\"] = np.arange(len(parameters_df))"
   ]
  },
  {
   "cell_type": "code",
   "execution_count": null,
   "metadata": {
    "tags": []
   },
   "outputs": [],
   "source": [
    "import warnings\n",
    "\n",
    "warnings.simplefilter(\"ignore\", DeprecationWarning)"
   ]
  },
  {
   "cell_type": "code",
   "execution_count": null,
   "metadata": {
    "tags": []
   },
   "outputs": [],
   "source": [
    "flatfields = []\n",
    "baselines = []\n",
    "b = BaSiC(\n",
    "    get_darkfield=False,\n",
    ")\n",
    "estimated_parameters = []\n",
    "b_cpu = BaSiC(\n",
    "    get_darkfield=False,\n",
    ")"
   ]
  },
  {
   "cell_type": "code",
   "execution_count": 36,
   "metadata": {
    "tags": []
   },
   "outputs": [],
   "source": [
    "current_num = len(estimated_parameters)\n",
    "flatfields = flatfields[:current_num]\n",
    "assert len(flatfields) == current_num"
   ]
  },
  {
   "cell_type": "code",
   "execution_count": 37,
   "metadata": {
    "tags": []
   },
   "outputs": [
    {
     "data": {
      "text/plain": [
       "(22145, 22145)"
      ]
     },
     "execution_count": 37,
     "metadata": {},
     "output_type": "execute_result"
    }
   ],
   "source": [
    "current_num, len(flatfields)"
   ]
  },
  {
   "cell_type": "code",
   "execution_count": 46,
   "metadata": {
    "tags": []
   },
   "outputs": [
    {
     "name": "stdout",
     "output_type": "stream",
     "text": [
      "[StreamExecutorGpuDevice(id=0, process_index=0), StreamExecutorGpuDevice(id=1, process_index=0), StreamExecutorGpuDevice(id=2, process_index=0), StreamExecutorGpuDevice(id=3, process_index=0)]\n"
     ]
    }
   ],
   "source": [
    "jax.config.update(\"jax_platform_name\", \"gpu\")\n",
    "print(jax.devices())\n",
    "jax.config.update(\"jax_platform_name\", \"cpu\")"
   ]
  },
  {
   "cell_type": "code",
   "execution_count": null,
   "metadata": {
    "scrolled": true,
    "tags": []
   },
   "outputs": [],
   "source": [
    "# q = \"true_flatfield_id==0 and ave_count==100 and blob_dist_key=='unbiased'\"\n",
    "_df = parameters_df  # .query(q)\n",
    "ii = 0\n",
    "\n",
    "for j, p in tqdm(enumerate(_df.to_dict(orient=\"records\")), total=len(_df)):\n",
    "    images = np.load(f\"wo_darkfield_imagess/{j}.npy\")\n",
    "    #!echo {p[\"image_index\"]} > log.txt\n",
    "    for fitting_mode, smoothness_flatfield in product(\n",
    "        [\"ladmap\", \"approximate\"],  # fitting_mode\n",
    "        list(np.logspace(-1, 1.5, 7)),  # smoothness_flatfield\n",
    "    ):\n",
    "        ii = ii + 1\n",
    "        if ii <= current_num:\n",
    "            continue\n",
    "        p2 = p.copy()\n",
    "        p2.update(\n",
    "            {\n",
    "                \"fitting_mode\": fitting_mode,\n",
    "                \"smoothness_flatfield\": smoothness_flatfield,\n",
    "            }\n",
    "        )\n",
    "        #        query = \" and \".join([f\"{k}==@p2['{k}']\" for k,v in list(p2.items()) if k!= \"smoothness_flatfield\"])\n",
    "        #        _df_sel = estimated_parameters_df.query(query)\n",
    "        #        _row = _df_sel[np.isclose(_df_sel[\"smoothness_flatfield\"],p2[\"smoothness_flatfield\"])]\n",
    "        #        assert len(_row) == 1\n",
    "\n",
    "        jax.config.update(\"jax_platform_name\", \"gpu\")\n",
    "        jax.config.update(\"jax_default_device\", jax.devices()[1])\n",
    "        b.fitting_mode = fitting_mode\n",
    "        b.smoothness_flatfield = smoothness_flatfield\n",
    "        start = time.time()\n",
    "        b.fit(images)\n",
    "        stop = time.time()\n",
    "        p2[\"time_gpu\"] = stop - start\n",
    "        flatfields.append(b.flatfield)\n",
    "        baselines.append(b.baseline)\n",
    "\n",
    "        jax.config.update(\"jax_platform_name\", \"cpu\")\n",
    "\n",
    "        if (\n",
    "            p[\"true_flatfield_id\"] == 0\n",
    "            and p[\"ave_count\"] == 100\n",
    "            and p[\"blob_dist_key\"] == \"unbiased\"\n",
    "        ):\n",
    "            b_cpu.fitting_mode = fitting_mode\n",
    "            b_cpu.smoothness_flatfield = smoothness_flatfield\n",
    "            start = time.time()\n",
    "            b_cpu.fit(images)\n",
    "            stop = time.time()\n",
    "            p2[\"time_cpu\"] = stop - start\n",
    "            assert np.allclose(b_cpu.flatfield, b.flatfield)\n",
    "            assert np.allclose(b_cpu.baseline, b.baseline)\n",
    "        else:\n",
    "            b_cpu.fit(datasets.wsi_brain())\n",
    "\n",
    "        estimated_parameters.append(p2)\n",
    "\n",
    "        current_num = len(estimated_parameters)\n",
    "        assert len(flatfields) == current_num"
   ]
  },
  {
   "cell_type": "code",
   "execution_count": 47,
   "metadata": {
    "tags": []
   },
   "outputs": [
    {
     "data": {
      "text/html": [
       "<div>\n",
       "<style scoped>\n",
       "    .dataframe tbody tr th:only-of-type {\n",
       "        vertical-align: middle;\n",
       "    }\n",
       "\n",
       "    .dataframe tbody tr th {\n",
       "        vertical-align: top;\n",
       "    }\n",
       "\n",
       "    .dataframe thead th {\n",
       "        text-align: right;\n",
       "    }\n",
       "</style>\n",
       "<table border=\"1\" class=\"dataframe\">\n",
       "  <thead>\n",
       "    <tr style=\"text-align: right;\">\n",
       "      <th></th>\n",
       "      <th>true_flatfield_id</th>\n",
       "      <th>intensity</th>\n",
       "      <th>ave_count</th>\n",
       "      <th>n_images</th>\n",
       "      <th>blob_dist_key</th>\n",
       "      <th>rep</th>\n",
       "      <th>image_index</th>\n",
       "      <th>fitting_mode</th>\n",
       "      <th>smoothness_flatfield</th>\n",
       "      <th>time_gpu</th>\n",
       "      <th>time_cpu</th>\n",
       "    </tr>\n",
       "  </thead>\n",
       "  <tbody>\n",
       "    <tr>\n",
       "      <th>0</th>\n",
       "      <td>0</td>\n",
       "      <td>10</td>\n",
       "      <td>0</td>\n",
       "      <td>10</td>\n",
       "      <td>biased</td>\n",
       "      <td>0</td>\n",
       "      <td>0</td>\n",
       "      <td>ladmap</td>\n",
       "      <td>0.100000</td>\n",
       "      <td>12.112859</td>\n",
       "      <td>NaN</td>\n",
       "    </tr>\n",
       "    <tr>\n",
       "      <th>1</th>\n",
       "      <td>0</td>\n",
       "      <td>10</td>\n",
       "      <td>0</td>\n",
       "      <td>10</td>\n",
       "      <td>biased</td>\n",
       "      <td>0</td>\n",
       "      <td>0</td>\n",
       "      <td>ladmap</td>\n",
       "      <td>0.261016</td>\n",
       "      <td>1.139761</td>\n",
       "      <td>NaN</td>\n",
       "    </tr>\n",
       "    <tr>\n",
       "      <th>2</th>\n",
       "      <td>0</td>\n",
       "      <td>10</td>\n",
       "      <td>0</td>\n",
       "      <td>10</td>\n",
       "      <td>biased</td>\n",
       "      <td>0</td>\n",
       "      <td>0</td>\n",
       "      <td>ladmap</td>\n",
       "      <td>0.681292</td>\n",
       "      <td>1.060643</td>\n",
       "      <td>NaN</td>\n",
       "    </tr>\n",
       "    <tr>\n",
       "      <th>3</th>\n",
       "      <td>0</td>\n",
       "      <td>10</td>\n",
       "      <td>0</td>\n",
       "      <td>10</td>\n",
       "      <td>biased</td>\n",
       "      <td>0</td>\n",
       "      <td>0</td>\n",
       "      <td>ladmap</td>\n",
       "      <td>1.778279</td>\n",
       "      <td>1.070440</td>\n",
       "      <td>NaN</td>\n",
       "    </tr>\n",
       "    <tr>\n",
       "      <th>4</th>\n",
       "      <td>0</td>\n",
       "      <td>10</td>\n",
       "      <td>0</td>\n",
       "      <td>10</td>\n",
       "      <td>biased</td>\n",
       "      <td>0</td>\n",
       "      <td>0</td>\n",
       "      <td>ladmap</td>\n",
       "      <td>4.641589</td>\n",
       "      <td>0.868617</td>\n",
       "      <td>NaN</td>\n",
       "    </tr>\n",
       "    <tr>\n",
       "      <th>...</th>\n",
       "      <td>...</td>\n",
       "      <td>...</td>\n",
       "      <td>...</td>\n",
       "      <td>...</td>\n",
       "      <td>...</td>\n",
       "      <td>...</td>\n",
       "      <td>...</td>\n",
       "      <td>...</td>\n",
       "      <td>...</td>\n",
       "      <td>...</td>\n",
       "      <td>...</td>\n",
       "    </tr>\n",
       "    <tr>\n",
       "      <th>22140</th>\n",
       "      <td>3</td>\n",
       "      <td>100</td>\n",
       "      <td>10</td>\n",
       "      <td>300</td>\n",
       "      <td>biased</td>\n",
       "      <td>1</td>\n",
       "      <td>1581</td>\n",
       "      <td>ladmap</td>\n",
       "      <td>31.622777</td>\n",
       "      <td>1.461288</td>\n",
       "      <td>NaN</td>\n",
       "    </tr>\n",
       "    <tr>\n",
       "      <th>22141</th>\n",
       "      <td>3</td>\n",
       "      <td>100</td>\n",
       "      <td>10</td>\n",
       "      <td>300</td>\n",
       "      <td>biased</td>\n",
       "      <td>1</td>\n",
       "      <td>1581</td>\n",
       "      <td>approximate</td>\n",
       "      <td>0.100000</td>\n",
       "      <td>6.296663</td>\n",
       "      <td>NaN</td>\n",
       "    </tr>\n",
       "    <tr>\n",
       "      <th>22142</th>\n",
       "      <td>3</td>\n",
       "      <td>100</td>\n",
       "      <td>10</td>\n",
       "      <td>300</td>\n",
       "      <td>biased</td>\n",
       "      <td>1</td>\n",
       "      <td>1581</td>\n",
       "      <td>approximate</td>\n",
       "      <td>0.261016</td>\n",
       "      <td>2.620137</td>\n",
       "      <td>NaN</td>\n",
       "    </tr>\n",
       "    <tr>\n",
       "      <th>22143</th>\n",
       "      <td>3</td>\n",
       "      <td>100</td>\n",
       "      <td>10</td>\n",
       "      <td>300</td>\n",
       "      <td>biased</td>\n",
       "      <td>1</td>\n",
       "      <td>1581</td>\n",
       "      <td>approximate</td>\n",
       "      <td>0.681292</td>\n",
       "      <td>2.622276</td>\n",
       "      <td>NaN</td>\n",
       "    </tr>\n",
       "    <tr>\n",
       "      <th>22144</th>\n",
       "      <td>3</td>\n",
       "      <td>100</td>\n",
       "      <td>10</td>\n",
       "      <td>300</td>\n",
       "      <td>biased</td>\n",
       "      <td>1</td>\n",
       "      <td>1581</td>\n",
       "      <td>approximate</td>\n",
       "      <td>1.778279</td>\n",
       "      <td>2.493329</td>\n",
       "      <td>NaN</td>\n",
       "    </tr>\n",
       "  </tbody>\n",
       "</table>\n",
       "<p>22145 rows × 11 columns</p>\n",
       "</div>"
      ],
      "text/plain": [
       "       true_flatfield_id  intensity  ave_count  n_images blob_dist_key  rep  \\\n",
       "0                      0         10          0        10        biased    0   \n",
       "1                      0         10          0        10        biased    0   \n",
       "2                      0         10          0        10        biased    0   \n",
       "3                      0         10          0        10        biased    0   \n",
       "4                      0         10          0        10        biased    0   \n",
       "...                  ...        ...        ...       ...           ...  ...   \n",
       "22140                  3        100         10       300        biased    1   \n",
       "22141                  3        100         10       300        biased    1   \n",
       "22142                  3        100         10       300        biased    1   \n",
       "22143                  3        100         10       300        biased    1   \n",
       "22144                  3        100         10       300        biased    1   \n",
       "\n",
       "       image_index fitting_mode  smoothness_flatfield   time_gpu  time_cpu  \n",
       "0                0       ladmap              0.100000  12.112859       NaN  \n",
       "1                0       ladmap              0.261016   1.139761       NaN  \n",
       "2                0       ladmap              0.681292   1.060643       NaN  \n",
       "3                0       ladmap              1.778279   1.070440       NaN  \n",
       "4                0       ladmap              4.641589   0.868617       NaN  \n",
       "...            ...          ...                   ...        ...       ...  \n",
       "22140         1581       ladmap             31.622777   1.461288       NaN  \n",
       "22141         1581  approximate              0.100000   6.296663       NaN  \n",
       "22142         1581  approximate              0.261016   2.620137       NaN  \n",
       "22143         1581  approximate              0.681292   2.622276       NaN  \n",
       "22144         1581  approximate              1.778279   2.493329       NaN  \n",
       "\n",
       "[22145 rows x 11 columns]"
      ]
     },
     "execution_count": 47,
     "metadata": {},
     "output_type": "execute_result"
    }
   ],
   "source": [
    "estimated_parameters_df = pd.DataFrame.from_records(estimated_parameters).reset_index(\n",
    "    drop=True\n",
    ")\n",
    "estimated_parameters_df"
   ]
  },
  {
   "cell_type": "code",
   "execution_count": 48,
   "metadata": {
    "tags": []
   },
   "outputs": [
    {
     "data": {
      "text/plain": [
       "22145"
      ]
     },
     "execution_count": 48,
     "metadata": {},
     "output_type": "execute_result"
    }
   ],
   "source": [
    "len(estimated_parameters)"
   ]
  },
  {
   "cell_type": "code",
   "execution_count": 49,
   "metadata": {
    "tags": []
   },
   "outputs": [],
   "source": [
    "np.save(\"flatfields.npy\", flatfields)"
   ]
  },
  {
   "cell_type": "code",
   "execution_count": 50,
   "metadata": {
    "tags": []
   },
   "outputs": [
    {
     "data": {
      "text/plain": [
       "22145"
      ]
     },
     "execution_count": 50,
     "metadata": {},
     "output_type": "execute_result"
    }
   ],
   "source": [
    "len(flatfields)"
   ]
  },
  {
   "cell_type": "code",
   "execution_count": 51,
   "metadata": {
    "tags": []
   },
   "outputs": [
    {
     "data": {
      "text/html": [
       "<div>\n",
       "<style scoped>\n",
       "    .dataframe tbody tr th:only-of-type {\n",
       "        vertical-align: middle;\n",
       "    }\n",
       "\n",
       "    .dataframe tbody tr th {\n",
       "        vertical-align: top;\n",
       "    }\n",
       "\n",
       "    .dataframe thead th {\n",
       "        text-align: right;\n",
       "    }\n",
       "</style>\n",
       "<table border=\"1\" class=\"dataframe\">\n",
       "  <thead>\n",
       "    <tr style=\"text-align: right;\">\n",
       "      <th></th>\n",
       "      <th>true_flatfield_id</th>\n",
       "      <th>intensity</th>\n",
       "      <th>ave_count</th>\n",
       "      <th>n_images</th>\n",
       "      <th>blob_dist_key</th>\n",
       "      <th>rep</th>\n",
       "      <th>image_index</th>\n",
       "      <th>fitting_mode</th>\n",
       "      <th>smoothness_flatfield</th>\n",
       "      <th>time_gpu</th>\n",
       "      <th>time_cpu</th>\n",
       "    </tr>\n",
       "  </thead>\n",
       "  <tbody>\n",
       "    <tr>\n",
       "      <th>0</th>\n",
       "      <td>0</td>\n",
       "      <td>10</td>\n",
       "      <td>0</td>\n",
       "      <td>10</td>\n",
       "      <td>biased</td>\n",
       "      <td>0</td>\n",
       "      <td>0</td>\n",
       "      <td>ladmap</td>\n",
       "      <td>0.100000</td>\n",
       "      <td>12.112859</td>\n",
       "      <td>NaN</td>\n",
       "    </tr>\n",
       "    <tr>\n",
       "      <th>1</th>\n",
       "      <td>0</td>\n",
       "      <td>10</td>\n",
       "      <td>0</td>\n",
       "      <td>10</td>\n",
       "      <td>biased</td>\n",
       "      <td>0</td>\n",
       "      <td>0</td>\n",
       "      <td>ladmap</td>\n",
       "      <td>0.261016</td>\n",
       "      <td>1.139761</td>\n",
       "      <td>NaN</td>\n",
       "    </tr>\n",
       "    <tr>\n",
       "      <th>2</th>\n",
       "      <td>0</td>\n",
       "      <td>10</td>\n",
       "      <td>0</td>\n",
       "      <td>10</td>\n",
       "      <td>biased</td>\n",
       "      <td>0</td>\n",
       "      <td>0</td>\n",
       "      <td>ladmap</td>\n",
       "      <td>0.681292</td>\n",
       "      <td>1.060643</td>\n",
       "      <td>NaN</td>\n",
       "    </tr>\n",
       "    <tr>\n",
       "      <th>3</th>\n",
       "      <td>0</td>\n",
       "      <td>10</td>\n",
       "      <td>0</td>\n",
       "      <td>10</td>\n",
       "      <td>biased</td>\n",
       "      <td>0</td>\n",
       "      <td>0</td>\n",
       "      <td>ladmap</td>\n",
       "      <td>1.778279</td>\n",
       "      <td>1.070440</td>\n",
       "      <td>NaN</td>\n",
       "    </tr>\n",
       "    <tr>\n",
       "      <th>4</th>\n",
       "      <td>0</td>\n",
       "      <td>10</td>\n",
       "      <td>0</td>\n",
       "      <td>10</td>\n",
       "      <td>biased</td>\n",
       "      <td>0</td>\n",
       "      <td>0</td>\n",
       "      <td>ladmap</td>\n",
       "      <td>4.641589</td>\n",
       "      <td>0.868617</td>\n",
       "      <td>NaN</td>\n",
       "    </tr>\n",
       "    <tr>\n",
       "      <th>...</th>\n",
       "      <td>...</td>\n",
       "      <td>...</td>\n",
       "      <td>...</td>\n",
       "      <td>...</td>\n",
       "      <td>...</td>\n",
       "      <td>...</td>\n",
       "      <td>...</td>\n",
       "      <td>...</td>\n",
       "      <td>...</td>\n",
       "      <td>...</td>\n",
       "      <td>...</td>\n",
       "    </tr>\n",
       "    <tr>\n",
       "      <th>22140</th>\n",
       "      <td>3</td>\n",
       "      <td>100</td>\n",
       "      <td>10</td>\n",
       "      <td>300</td>\n",
       "      <td>biased</td>\n",
       "      <td>1</td>\n",
       "      <td>1581</td>\n",
       "      <td>ladmap</td>\n",
       "      <td>31.622777</td>\n",
       "      <td>1.461288</td>\n",
       "      <td>NaN</td>\n",
       "    </tr>\n",
       "    <tr>\n",
       "      <th>22141</th>\n",
       "      <td>3</td>\n",
       "      <td>100</td>\n",
       "      <td>10</td>\n",
       "      <td>300</td>\n",
       "      <td>biased</td>\n",
       "      <td>1</td>\n",
       "      <td>1581</td>\n",
       "      <td>approximate</td>\n",
       "      <td>0.100000</td>\n",
       "      <td>6.296663</td>\n",
       "      <td>NaN</td>\n",
       "    </tr>\n",
       "    <tr>\n",
       "      <th>22142</th>\n",
       "      <td>3</td>\n",
       "      <td>100</td>\n",
       "      <td>10</td>\n",
       "      <td>300</td>\n",
       "      <td>biased</td>\n",
       "      <td>1</td>\n",
       "      <td>1581</td>\n",
       "      <td>approximate</td>\n",
       "      <td>0.261016</td>\n",
       "      <td>2.620137</td>\n",
       "      <td>NaN</td>\n",
       "    </tr>\n",
       "    <tr>\n",
       "      <th>22143</th>\n",
       "      <td>3</td>\n",
       "      <td>100</td>\n",
       "      <td>10</td>\n",
       "      <td>300</td>\n",
       "      <td>biased</td>\n",
       "      <td>1</td>\n",
       "      <td>1581</td>\n",
       "      <td>approximate</td>\n",
       "      <td>0.681292</td>\n",
       "      <td>2.622276</td>\n",
       "      <td>NaN</td>\n",
       "    </tr>\n",
       "    <tr>\n",
       "      <th>22144</th>\n",
       "      <td>3</td>\n",
       "      <td>100</td>\n",
       "      <td>10</td>\n",
       "      <td>300</td>\n",
       "      <td>biased</td>\n",
       "      <td>1</td>\n",
       "      <td>1581</td>\n",
       "      <td>approximate</td>\n",
       "      <td>1.778279</td>\n",
       "      <td>2.493329</td>\n",
       "      <td>NaN</td>\n",
       "    </tr>\n",
       "  </tbody>\n",
       "</table>\n",
       "<p>22145 rows × 11 columns</p>\n",
       "</div>"
      ],
      "text/plain": [
       "       true_flatfield_id  intensity  ave_count  n_images blob_dist_key  rep  \\\n",
       "0                      0         10          0        10        biased    0   \n",
       "1                      0         10          0        10        biased    0   \n",
       "2                      0         10          0        10        biased    0   \n",
       "3                      0         10          0        10        biased    0   \n",
       "4                      0         10          0        10        biased    0   \n",
       "...                  ...        ...        ...       ...           ...  ...   \n",
       "22140                  3        100         10       300        biased    1   \n",
       "22141                  3        100         10       300        biased    1   \n",
       "22142                  3        100         10       300        biased    1   \n",
       "22143                  3        100         10       300        biased    1   \n",
       "22144                  3        100         10       300        biased    1   \n",
       "\n",
       "       image_index fitting_mode  smoothness_flatfield   time_gpu  time_cpu  \n",
       "0                0       ladmap              0.100000  12.112859       NaN  \n",
       "1                0       ladmap              0.261016   1.139761       NaN  \n",
       "2                0       ladmap              0.681292   1.060643       NaN  \n",
       "3                0       ladmap              1.778279   1.070440       NaN  \n",
       "4                0       ladmap              4.641589   0.868617       NaN  \n",
       "...            ...          ...                   ...        ...       ...  \n",
       "22140         1581       ladmap             31.622777   1.461288       NaN  \n",
       "22141         1581  approximate              0.100000   6.296663       NaN  \n",
       "22142         1581  approximate              0.261016   2.620137       NaN  \n",
       "22143         1581  approximate              0.681292   2.622276       NaN  \n",
       "22144         1581  approximate              1.778279   2.493329       NaN  \n",
       "\n",
       "[22145 rows x 11 columns]"
      ]
     },
     "execution_count": 51,
     "metadata": {},
     "output_type": "execute_result"
    }
   ],
   "source": [
    "estimated_parameters_df"
   ]
  },
  {
   "cell_type": "markdown",
   "metadata": {
    "tags": []
   },
   "source": [
    "# Calculate deviation"
   ]
  },
  {
   "cell_type": "code",
   "execution_count": 52,
   "metadata": {
    "tags": []
   },
   "outputs": [],
   "source": [
    "flatfields = np.load(\"flatfields.npy\")"
   ]
  },
  {
   "cell_type": "code",
   "execution_count": 53,
   "metadata": {
    "tags": []
   },
   "outputs": [],
   "source": [
    "assert len(estimated_parameters_df) == len(flatfields)"
   ]
  },
  {
   "cell_type": "code",
   "execution_count": 54,
   "metadata": {
    "tags": []
   },
   "outputs": [],
   "source": [
    "for (i, row), flatfield in zip(estimated_parameters_df.iterrows(), flatfields):\n",
    "    estimated_parameters_df.loc[i, \"deviation\"] = np.mean(\n",
    "        np.abs(flatfield - flatfield_profiles[row[\"true_flatfield_id\"]])\n",
    "    )"
   ]
  },
  {
   "cell_type": "code",
   "execution_count": 55,
   "metadata": {
    "tags": []
   },
   "outputs": [
    {
     "data": {
      "text/html": [
       "<div>\n",
       "<style scoped>\n",
       "    .dataframe tbody tr th:only-of-type {\n",
       "        vertical-align: middle;\n",
       "    }\n",
       "\n",
       "    .dataframe tbody tr th {\n",
       "        vertical-align: top;\n",
       "    }\n",
       "\n",
       "    .dataframe thead th {\n",
       "        text-align: right;\n",
       "    }\n",
       "</style>\n",
       "<table border=\"1\" class=\"dataframe\">\n",
       "  <thead>\n",
       "    <tr style=\"text-align: right;\">\n",
       "      <th></th>\n",
       "      <th>true_flatfield_id</th>\n",
       "      <th>intensity</th>\n",
       "      <th>ave_count</th>\n",
       "      <th>n_images</th>\n",
       "      <th>blob_dist_key</th>\n",
       "      <th>rep</th>\n",
       "      <th>image_index</th>\n",
       "      <th>fitting_mode</th>\n",
       "      <th>smoothness_flatfield</th>\n",
       "      <th>time_gpu</th>\n",
       "      <th>time_cpu</th>\n",
       "      <th>deviation</th>\n",
       "    </tr>\n",
       "  </thead>\n",
       "  <tbody>\n",
       "    <tr>\n",
       "      <th>0</th>\n",
       "      <td>0</td>\n",
       "      <td>10</td>\n",
       "      <td>0</td>\n",
       "      <td>10</td>\n",
       "      <td>biased</td>\n",
       "      <td>0</td>\n",
       "      <td>0</td>\n",
       "      <td>ladmap</td>\n",
       "      <td>0.100000</td>\n",
       "      <td>12.112859</td>\n",
       "      <td>NaN</td>\n",
       "      <td>0.024315</td>\n",
       "    </tr>\n",
       "    <tr>\n",
       "      <th>1</th>\n",
       "      <td>0</td>\n",
       "      <td>10</td>\n",
       "      <td>0</td>\n",
       "      <td>10</td>\n",
       "      <td>biased</td>\n",
       "      <td>0</td>\n",
       "      <td>0</td>\n",
       "      <td>ladmap</td>\n",
       "      <td>0.261016</td>\n",
       "      <td>1.139761</td>\n",
       "      <td>NaN</td>\n",
       "      <td>0.018550</td>\n",
       "    </tr>\n",
       "    <tr>\n",
       "      <th>2</th>\n",
       "      <td>0</td>\n",
       "      <td>10</td>\n",
       "      <td>0</td>\n",
       "      <td>10</td>\n",
       "      <td>biased</td>\n",
       "      <td>0</td>\n",
       "      <td>0</td>\n",
       "      <td>ladmap</td>\n",
       "      <td>0.681292</td>\n",
       "      <td>1.060643</td>\n",
       "      <td>NaN</td>\n",
       "      <td>0.008840</td>\n",
       "    </tr>\n",
       "    <tr>\n",
       "      <th>3</th>\n",
       "      <td>0</td>\n",
       "      <td>10</td>\n",
       "      <td>0</td>\n",
       "      <td>10</td>\n",
       "      <td>biased</td>\n",
       "      <td>0</td>\n",
       "      <td>0</td>\n",
       "      <td>ladmap</td>\n",
       "      <td>1.778279</td>\n",
       "      <td>1.070440</td>\n",
       "      <td>NaN</td>\n",
       "      <td>0.005247</td>\n",
       "    </tr>\n",
       "    <tr>\n",
       "      <th>4</th>\n",
       "      <td>0</td>\n",
       "      <td>10</td>\n",
       "      <td>0</td>\n",
       "      <td>10</td>\n",
       "      <td>biased</td>\n",
       "      <td>0</td>\n",
       "      <td>0</td>\n",
       "      <td>ladmap</td>\n",
       "      <td>4.641589</td>\n",
       "      <td>0.868617</td>\n",
       "      <td>NaN</td>\n",
       "      <td>0.010590</td>\n",
       "    </tr>\n",
       "  </tbody>\n",
       "</table>\n",
       "</div>"
      ],
      "text/plain": [
       "   true_flatfield_id  intensity  ave_count  n_images blob_dist_key  rep  \\\n",
       "0                  0         10          0        10        biased    0   \n",
       "1                  0         10          0        10        biased    0   \n",
       "2                  0         10          0        10        biased    0   \n",
       "3                  0         10          0        10        biased    0   \n",
       "4                  0         10          0        10        biased    0   \n",
       "\n",
       "   image_index fitting_mode  smoothness_flatfield   time_gpu  time_cpu  \\\n",
       "0            0       ladmap              0.100000  12.112859       NaN   \n",
       "1            0       ladmap              0.261016   1.139761       NaN   \n",
       "2            0       ladmap              0.681292   1.060643       NaN   \n",
       "3            0       ladmap              1.778279   1.070440       NaN   \n",
       "4            0       ladmap              4.641589   0.868617       NaN   \n",
       "\n",
       "   deviation  \n",
       "0   0.024315  \n",
       "1   0.018550  \n",
       "2   0.008840  \n",
       "3   0.005247  \n",
       "4   0.010590  "
      ]
     },
     "execution_count": 55,
     "metadata": {},
     "output_type": "execute_result"
    }
   ],
   "source": [
    "estimated_parameters_df.to_csv(\"wo_flatfield_estimated_parameters_df.csv\")\n",
    "estimated_parameters_df.head()"
   ]
  },
  {
   "cell_type": "markdown",
   "metadata": {},
   "source": [
    "# Calculate autotune metric"
   ]
  },
  {
   "cell_type": "code",
   "execution_count": 56,
   "metadata": {
    "tags": []
   },
   "outputs": [
    {
     "data": {
      "text/html": [
       "<div>\n",
       "<style scoped>\n",
       "    .dataframe tbody tr th:only-of-type {\n",
       "        vertical-align: middle;\n",
       "    }\n",
       "\n",
       "    .dataframe tbody tr th {\n",
       "        vertical-align: top;\n",
       "    }\n",
       "\n",
       "    .dataframe thead th {\n",
       "        text-align: right;\n",
       "    }\n",
       "</style>\n",
       "<table border=\"1\" class=\"dataframe\">\n",
       "  <thead>\n",
       "    <tr style=\"text-align: right;\">\n",
       "      <th></th>\n",
       "      <th>true_flatfield_id</th>\n",
       "      <th>intensity</th>\n",
       "      <th>ave_count</th>\n",
       "      <th>n_images</th>\n",
       "      <th>blob_dist_key</th>\n",
       "      <th>rep</th>\n",
       "      <th>image_index</th>\n",
       "      <th>fitting_mode</th>\n",
       "      <th>smoothness_flatfield</th>\n",
       "      <th>time_gpu</th>\n",
       "      <th>time_cpu</th>\n",
       "      <th>deviation</th>\n",
       "    </tr>\n",
       "  </thead>\n",
       "  <tbody>\n",
       "    <tr>\n",
       "      <th>0</th>\n",
       "      <td>0</td>\n",
       "      <td>10</td>\n",
       "      <td>0</td>\n",
       "      <td>10</td>\n",
       "      <td>biased</td>\n",
       "      <td>0</td>\n",
       "      <td>0</td>\n",
       "      <td>ladmap</td>\n",
       "      <td>0.100000</td>\n",
       "      <td>12.112859</td>\n",
       "      <td>NaN</td>\n",
       "      <td>0.024315</td>\n",
       "    </tr>\n",
       "    <tr>\n",
       "      <th>1</th>\n",
       "      <td>0</td>\n",
       "      <td>10</td>\n",
       "      <td>0</td>\n",
       "      <td>10</td>\n",
       "      <td>biased</td>\n",
       "      <td>0</td>\n",
       "      <td>0</td>\n",
       "      <td>ladmap</td>\n",
       "      <td>0.261016</td>\n",
       "      <td>1.139761</td>\n",
       "      <td>NaN</td>\n",
       "      <td>0.018550</td>\n",
       "    </tr>\n",
       "    <tr>\n",
       "      <th>2</th>\n",
       "      <td>0</td>\n",
       "      <td>10</td>\n",
       "      <td>0</td>\n",
       "      <td>10</td>\n",
       "      <td>biased</td>\n",
       "      <td>0</td>\n",
       "      <td>0</td>\n",
       "      <td>ladmap</td>\n",
       "      <td>0.681292</td>\n",
       "      <td>1.060643</td>\n",
       "      <td>NaN</td>\n",
       "      <td>0.008840</td>\n",
       "    </tr>\n",
       "    <tr>\n",
       "      <th>3</th>\n",
       "      <td>0</td>\n",
       "      <td>10</td>\n",
       "      <td>0</td>\n",
       "      <td>10</td>\n",
       "      <td>biased</td>\n",
       "      <td>0</td>\n",
       "      <td>0</td>\n",
       "      <td>ladmap</td>\n",
       "      <td>1.778279</td>\n",
       "      <td>1.070440</td>\n",
       "      <td>NaN</td>\n",
       "      <td>0.005247</td>\n",
       "    </tr>\n",
       "    <tr>\n",
       "      <th>4</th>\n",
       "      <td>0</td>\n",
       "      <td>10</td>\n",
       "      <td>0</td>\n",
       "      <td>10</td>\n",
       "      <td>biased</td>\n",
       "      <td>0</td>\n",
       "      <td>0</td>\n",
       "      <td>ladmap</td>\n",
       "      <td>4.641589</td>\n",
       "      <td>0.868617</td>\n",
       "      <td>NaN</td>\n",
       "      <td>0.010590</td>\n",
       "    </tr>\n",
       "  </tbody>\n",
       "</table>\n",
       "</div>"
      ],
      "text/plain": [
       "   true_flatfield_id  intensity  ave_count  n_images blob_dist_key  rep  \\\n",
       "0                  0         10          0        10        biased    0   \n",
       "1                  0         10          0        10        biased    0   \n",
       "2                  0         10          0        10        biased    0   \n",
       "3                  0         10          0        10        biased    0   \n",
       "4                  0         10          0        10        biased    0   \n",
       "\n",
       "   image_index fitting_mode  smoothness_flatfield   time_gpu  time_cpu  \\\n",
       "0            0       ladmap              0.100000  12.112859       NaN   \n",
       "1            0       ladmap              0.261016   1.139761       NaN   \n",
       "2            0       ladmap              0.681292   1.060643       NaN   \n",
       "3            0       ladmap              1.778279   1.070440       NaN   \n",
       "4            0       ladmap              4.641589   0.868617       NaN   \n",
       "\n",
       "   deviation  \n",
       "0   0.024315  \n",
       "1   0.018550  \n",
       "2   0.008840  \n",
       "3   0.005247  \n",
       "4   0.010590  "
      ]
     },
     "execution_count": 56,
     "metadata": {},
     "output_type": "execute_result"
    }
   ],
   "source": [
    "estimated_parameters_df = pd.read_csv(\n",
    "    \"wo_flatfield_estimated_parameters_df.csv\", index_col=0\n",
    ")\n",
    "estimated_parameters_df.head()"
   ]
  },
  {
   "cell_type": "code",
   "execution_count": 59,
   "metadata": {
    "tags": []
   },
   "outputs": [
    {
     "data": {
      "text/plain": [
       "[<matplotlib.lines.Line2D at 0x7f161d137e20>]"
      ]
     },
     "execution_count": 59,
     "metadata": {},
     "output_type": "execute_result"
    },
    {
     "data": {
      "image/png": "[encoded data removed]",
      "text/plain": [
       "<Figure size 640x480 with 1 Axes>"
      ]
     },
     "metadata": {},
     "output_type": "display_data"
    }
   ],
   "source": [
    "plt.plot(estimated_parameters_df[\"time_gpu\"], estimated_parameters_df[\"time_cpu\"], \".\")\n",
    "plt.xlabel(\"gpu time (s)\")\n",
    "plt.ylabel(\"cpu time (s)\")\n",
    "plt.plot([0,2],[0,2])"
   ]
  },
  {
   "cell_type": "code",
   "execution_count": 60,
   "metadata": {
    "tags": []
   },
   "outputs": [],
   "source": [
    "assert len(flatfields) == len(estimated_parameters_df)"
   ]
  },
  {
   "cell_type": "markdown",
   "metadata": {},
   "source": [
    "## Calculate histogram ranges "
   ]
  },
  {
   "cell_type": "code",
   "execution_count": 61,
   "metadata": {
    "tags": []
   },
   "outputs": [
    {
     "name": "stderr",
     "output_type": "stream",
     "text": [
      "/home/fukai/.pyenv/versions/miniconda3-4.7.12/envs/basicpy/lib/python3.10/site-packages/tqdm/auto.py:21: TqdmWarning: IProgress not found. Please update jupyter and ipywidgets. See https://ipywidgets.readthedocs.io/en/stable/user_install.html\n",
      "  from .autonotebook import tqdm as notebook_tqdm\n",
      "2023-11-17 10:28:02,145\tINFO worker.py:1636 -- Started a local Ray instance.\n"
     ]
    },
    {
     "data": {
      "text/html": [
       "<div>\n",
       "    <div style=\"margin-left: 50px;display: flex;flex-direction: row;align-items: center\">\n",
       "        <h3 style=\"color: var(--jp-ui-font-color0)\">Ray</h3>\n",
       "        <svg version=\"1.1\" id=\"ray\" width=\"3em\" viewBox=\"0 0 144.5 144.6\" style=\"margin-left: 3em;margin-right: 3em\">\n",
       "            <g id=\"layer-1\">\n",
       "                <path fill=\"#00a2e9\" class=\"st0\" d=\"M97.3,77.2c-3.8-1.1-6.2,0.9-8.3,5.1c-3.5,6.8-9.9,9.9-17.4,9.6S58,88.1,54.8,81.2c-1.4-3-3-4-6.3-4.1\n",
       "                    c-5.6-0.1-9.9,0.1-13.1,6.4c-3.8,7.6-13.6,10.2-21.8,7.6C5.2,88.4-0.4,80.5,0,71.7c0.1-8.4,5.7-15.8,13.8-18.2\n",
       "                    c8.4-2.6,17.5,0.7,22.3,8c1.3,1.9,1.3,5.2,3.6,5.6c3.9,0.6,8,0.2,12,0.2c1.8,0,1.9-1.6,2.4-2.8c3.5-7.8,9.7-11.8,18-11.9\n",
       "                    c8.2-0.1,14.4,3.9,17.8,11.4c1.3,2.8,2.9,3.6,5.7,3.3c1-0.1,2,0.1,3,0c2.8-0.5,6.4,1.7,8.1-2.7s-2.3-5.5-4.1-7.5\n",
       "                    c-5.1-5.7-10.9-10.8-16.1-16.3C84,38,81.9,37.1,78,38.3C66.7,42,56.2,35.7,53,24.1C50.3,14,57.3,2.8,67.7,0.5\n",
       "                    C78.4-2,89,4.7,91.5,15.3c0.1,0.3,0.1,0.5,0.2,0.8c0.7,3.4,0.7,6.9-0.8,9.8c-1.7,3.2-0.8,5,1.5,7.2c6.7,6.5,13.3,13,19.8,19.7\n",
       "                    c1.8,1.8,3,2.1,5.5,1.2c9.1-3.4,17.9-0.6,23.4,7c4.8,6.9,4.6,16.1-0.4,22.9c-5.4,7.2-14.2,9.9-23.1,6.5c-2.3-0.9-3.5-0.6-5.1,1.1\n",
       "                    c-6.7,6.9-13.6,13.7-20.5,20.4c-1.8,1.8-2.5,3.2-1.4,5.9c3.5,8.7,0.3,18.6-7.7,23.6c-7.9,5-18.2,3.8-24.8-2.9\n",
       "                    c-6.4-6.4-7.4-16.2-2.5-24.3c4.9-7.8,14.5-11,23.1-7.8c3,1.1,4.7,0.5,6.9-1.7C91.7,98.4,98,92.3,104.2,86c1.6-1.6,4.1-2.7,2.6-6.2\n",
       "                    c-1.4-3.3-3.8-2.5-6.2-2.6C99.8,77.2,98.9,77.2,97.3,77.2z M72.1,29.7c5.5,0.1,9.9-4.3,10-9.8c0-0.1,0-0.2,0-0.3\n",
       "                    C81.8,14,77,9.8,71.5,10.2c-5,0.3-9,4.2-9.3,9.2c-0.2,5.5,4,10.1,9.5,10.3C71.8,29.7,72,29.7,72.1,29.7z M72.3,62.3\n",
       "                    c-5.4-0.1-9.9,4.2-10.1,9.7c0,0.2,0,0.3,0,0.5c0.2,5.4,4.5,9.7,9.9,10c5.1,0.1,9.9-4.7,10.1-9.8c0.2-5.5-4-10-9.5-10.3\n",
       "                    C72.6,62.3,72.4,62.3,72.3,62.3z M115,72.5c0.1,5.4,4.5,9.7,9.8,9.9c5.6-0.2,10-4.8,10-10.4c-0.2-5.4-4.6-9.7-10-9.7\n",
       "                    c-5.3-0.1-9.8,4.2-9.9,9.5C115,72.1,115,72.3,115,72.5z M19.5,62.3c-5.4,0.1-9.8,4.4-10,9.8c-0.1,5.1,5.2,10.4,10.2,10.3\n",
       "                    c5.6-0.2,10-4.9,9.8-10.5c-0.1-5.4-4.5-9.7-9.9-9.6C19.6,62.3,19.5,62.3,19.5,62.3z M71.8,134.6c5.9,0.2,10.3-3.9,10.4-9.6\n",
       "                    c0.5-5.5-3.6-10.4-9.1-10.8c-5.5-0.5-10.4,3.6-10.8,9.1c0,0.5,0,0.9,0,1.4c-0.2,5.3,4,9.8,9.3,10\n",
       "                    C71.6,134.6,71.7,134.6,71.8,134.6z\"/>\n",
       "            </g>\n",
       "        </svg>\n",
       "        <table>\n",
       "            <tr>\n",
       "                <td style=\"text-align: left\"><b>Python version:</b></td>\n",
       "                <td style=\"text-align: left\"><b>3.10.12</b></td>\n",
       "            </tr>\n",
       "            <tr>\n",
       "                <td style=\"text-align: left\"><b>Ray version:</b></td>\n",
       "                <td style=\"text-align: left\"><b> 2.5.1</b></td>\n",
       "            </tr>\n",
       "            \n",
       "        </table>\n",
       "    </div>\n",
       "</div>\n"
      ],
      "text/plain": [
       "RayContext(dashboard_url='', python_version='3.10.12', ray_version='2.5.1', ray_commit='a03efd9931128d387649dd48b0e4864b43d3bfb4', address_info={'node_ip_address': '172.21.5.15', 'raylet_ip_address': '172.21.5.15', 'redis_address': None, 'object_store_address': '/tmp/ray/session_2023-11-17_10-27-52_446815_151715/sockets/plasma_store', 'raylet_socket_name': '/tmp/ray/session_2023-11-17_10-27-52_446815_151715/sockets/raylet', 'webui_url': '', 'session_dir': '/tmp/ray/session_2023-11-17_10-27-52_446815_151715', 'metrics_export_port': 63389, 'gcs_address': '172.21.5.15:45063', 'address': '172.21.5.15:45063', 'dashboard_agent_listen_port': 52365, 'node_id': '6ee4e03a438a144d35fd7c6185d83ecbfee6d01d1d0bed26675c6f5f'})"
      ]
     },
     "execution_count": 61,
     "metadata": {},
     "output_type": "execute_result"
    }
   ],
   "source": [
    "import ray\n",
    "\n",
    "ray.shutdown()\n",
    "ray.init(num_cpus=20)"
   ]
  },
  {
   "cell_type": "code",
   "execution_count": 62,
   "metadata": {
    "tags": []
   },
   "outputs": [],
   "source": [
    "histogram_qmin: float = 0.01\n",
    "histogram_qmax: float = 0.99\n",
    "vmin_factor: float = 0.6\n",
    "vrange_factor: float = 1.5\n",
    "histogram_bins: int = 1000\n",
    "histogram_use_fitting_weight: bool = True\n",
    "fourier_l0_norm_image_threshold: float = 0.1\n",
    "fourier_l0_norm_fourier_radius = 10\n",
    "fourier_l0_norm_threshold = 1e-3\n",
    "fourier_l0_norm_cost_coef = 1e4"
   ]
  },
  {
   "cell_type": "code",
   "execution_count": 63,
   "metadata": {
    "scrolled": true,
    "tags": []
   },
   "outputs": [
    {
     "name": "stderr",
     "output_type": "stream",
     "text": [
      " 21%|████████▏                              | 661/3164 [00:01<00:05, 447.04it/s]\u001b[2m\u001b[36m(calc_vrange pid=173177)\u001b[0m 2023-11-17 10:28:04.791531: E external/org_tensorflow/tensorflow/compiler/xla/stream_executor/cuda/cuda_driver.cc:267] failed call to cuInit: CUDA_ERROR_NO_DEVICE: no CUDA-capable device is detected\n",
      "\u001b[2m\u001b[36m(calc_vrange pid=173177)\u001b[0m WARNING:absl:No GPU/TPU found, falling back to CPU. (Set TF_CPP_MIN_LOG_LEVEL=0 and rerun for more info.)\n",
      "100%|██████████████████████████████████████| 3164/3164 [00:08<00:00, 367.52it/s]\n"
     ]
    }
   ],
   "source": [
    "def calc_vrange(fitting_mode, image_index):\n",
    "    import warnings\n",
    "\n",
    "    warnings.simplefilter(\"ignore\", DeprecationWarning)\n",
    "    b = BaSiC(\n",
    "        get_darkfield=False,\n",
    "    )\n",
    "    images = np.load(f\"wo_darkfield_imagess/{int(image_index)}.npy\")\n",
    "    b.fitting_mode = fitting_mode\n",
    "    b.smoothness_flatfield = 0.1\n",
    "    b.fit(images)\n",
    "    transformed = b.transform(images, timelapse=False)\n",
    "    vmin, vmax = np.quantile(transformed, [histogram_qmin, histogram_qmax])\n",
    "    val_range = (\n",
    "        vmax - vmin * vmin_factor\n",
    "    ) * vrange_factor  # fix the value range for histogram\n",
    "    return (fitting_mode, image_index), val_range\n",
    "\n",
    "\n",
    "ress = []\n",
    "for (fitting_mode, image_index), _ in tqdm(\n",
    "    list(estimated_parameters_df.groupby([\"fitting_mode\", \"image_index\"]))[:]\n",
    "):\n",
    "    ress.append(ray.remote(calc_vrange).remote(fitting_mode, image_index))"
   ]
  },
  {
   "cell_type": "code",
   "execution_count": null,
   "metadata": {
    "scrolled": true,
    "tags": []
   },
   "outputs": [
    {
     "name": "stderr",
     "output_type": "stream",
     "text": [
      "  5%|██▏                                     | 170/3164 [01:30<29:21,  1.70it/s]"
     ]
    }
   ],
   "source": [
    "show_ray_progress(ress);"
   ]
  },
  {
   "cell_type": "code",
   "execution_count": null,
   "metadata": {
    "tags": []
   },
   "outputs": [],
   "source": [
    "vranges = dict(ray.get(ress))"
   ]
  },
  {
   "cell_type": "code",
   "execution_count": null,
   "metadata": {
    "tags": []
   },
   "outputs": [],
   "source": [
    "with open(\"vranges.pickle\", \"wb\") as f:\n",
    "    pickle.dump(vranges, f)"
   ]
  },
  {
   "cell_type": "markdown",
   "metadata": {},
   "source": [
    "## Calc metrics"
   ]
  },
  {
   "cell_type": "code",
   "execution_count": null,
   "metadata": {
    "tags": []
   },
   "outputs": [],
   "source": [
    "with open(\"vranges.pickle\", \"rb\") as f:\n",
    "    vranges = pickle.load(f)"
   ]
  },
  {
   "cell_type": "code",
   "execution_count": null,
   "metadata": {
    "tags": []
   },
   "outputs": [],
   "source": [
    "ress = []\n",
    "\n",
    "\n",
    "def calc_autotune_cost(i, row, flatfield):\n",
    "    images = np.load(f\"wo_darkfield_imagess/{int(row['image_index'])}.npy\")\n",
    "    val_range = vranges[(row[\"fitting_mode\"], int(row[\"image_index\"]))]\n",
    "    b = BaSiC(\n",
    "        get_darkfield=False,\n",
    "    )\n",
    "\n",
    "    b.fitting_mode = row[\"fitting_mode\"]\n",
    "    b.smoothness_flatfield = row[\"smoothness_flatfield\"]\n",
    "    b.flatfield = flatfield\n",
    "    b.darkfield = np.zeros_like(flatfield)\n",
    "    b.baseline = np.ones(images.shape[0])\n",
    "    transformed = b.transform(images, timelapse=False)\n",
    "    entropy_vmin = np.quantile(transformed, histogram_qmin) * vmin_factor\n",
    "    entropy_vmax = entropy_vmin + val_range\n",
    "    e = metrics.entropy(\n",
    "        transformed,\n",
    "        vmin=entropy_vmin,\n",
    "        vmax=entropy_vmax,\n",
    "        bins=histogram_bins,\n",
    "        clip=True,\n",
    "    )\n",
    "    n = metrics.fourier_L0_norm(\n",
    "        b.flatfield,\n",
    "        fourier_l0_norm_image_threshold,\n",
    "        fourier_l0_norm_fourier_radius,\n",
    "    )\n",
    "    cost = metrics.autotune_cost(\n",
    "        transformed,\n",
    "        flatfield,\n",
    "        entropy_vmin=entropy_vmin,\n",
    "        entropy_vmax=entropy_vmax,\n",
    "        histogram_bins=histogram_bins,\n",
    "        fourier_l0_norm_cost_coef=fourier_l0_norm_cost_coef,\n",
    "        fourier_l0_norm_image_threshold=fourier_l0_norm_image_threshold,\n",
    "        fourier_l0_norm_fourier_radius=fourier_l0_norm_fourier_radius,\n",
    "        fourier_l0_norm_threshold=fourier_l0_norm_threshold,\n",
    "    )\n",
    "    return i, e, n, cost\n",
    "\n",
    "\n",
    "for (i, row), flatfield in tqdm(\n",
    "    list(zip(estimated_parameters_df.iterrows(), flatfields))\n",
    "):\n",
    "    ress.append(ray.remote(calc_autotune_cost).remote(i, row, flatfield))"
   ]
  },
  {
   "cell_type": "code",
   "execution_count": null,
   "metadata": {
    "tags": []
   },
   "outputs": [],
   "source": [
    "show_ray_progress(ress);"
   ]
  },
  {
   "cell_type": "code",
   "execution_count": null,
   "metadata": {
    "tags": []
   },
   "outputs": [],
   "source": [
    "for i, e, n, cost in ray.get(ress):\n",
    "    estimated_parameters_df.loc[i, \"entropy\"] = e\n",
    "    estimated_parameters_df.loc[i, \"fourier_L0_norm\"] = n\n",
    "    estimated_parameters_df.loc[i, \"autotune_cost\"] = cost"
   ]
  },
  {
   "cell_type": "code",
   "execution_count": null,
   "metadata": {
    "tags": []
   },
   "outputs": [],
   "source": [
    "estimated_parameters_df.to_csv(\"wo_flatfield_estimated_parameters_df_with_autotune.csv\")"
   ]
  },
  {
   "cell_type": "code",
   "execution_count": null,
   "metadata": {
    "tags": []
   },
   "outputs": [],
   "source": [
    "estimated_parameters_df = pd.read_csv(\n",
    "    \"wo_flatfield_estimated_parameters_df_with_autotune.csv\"\n",
    ")"
   ]
  },
  {
   "cell_type": "code",
   "execution_count": null,
   "metadata": {
    "tags": []
   },
   "outputs": [],
   "source": [
    "estimated_parameters_df.query(\"intensity==1000\").head()"
   ]
  },
  {
   "cell_type": "code",
   "execution_count": null,
   "metadata": {
    "tags": []
   },
   "outputs": [],
   "source": [
    "assert all(estimated_parameters_df.index == np.arange(len(estimated_parameters_df)))"
   ]
  },
  {
   "cell_type": "code",
   "execution_count": null,
   "metadata": {
    "tags": []
   },
   "outputs": [],
   "source": [
    "for (i, row) in tqdm(\n",
    "    list(\n",
    "        estimated_parameters_df.query(\n",
    "            \"intensity==1000 and n_images==1000 and ave_count==0\"\n",
    "        ).iterrows()\n",
    "    )[:6]\n",
    "):\n",
    "    flatfield = flatfields[i]\n",
    "    images = np.load(f\"wo_darkfield_imagess/{int(row['image_index'])}.npy\")\n",
    "    val_range = vranges[(row[\"fitting_mode\"], int(row[\"image_index\"]))]\n",
    "    b = BaSiC(\n",
    "        get_darkfield=False,\n",
    "    )\n",
    "\n",
    "    b.fitting_mode = row[\"fitting_mode\"]\n",
    "    b.smoothness_flatfield = row[\"smoothness_flatfield\"]\n",
    "    b.flatfield = flatfield\n",
    "    b.darkfield = np.zeros_like(flatfield)\n",
    "    b.baseline = np.ones(images.shape[0])\n",
    "    transformed = images / flatfield[np.newaxis]  # b.transform(images, timelapse=False)\n",
    "    entropy_vmin = np.quantile(transformed, histogram_qmin) * vmin_factor\n",
    "    entropy_vmax = entropy_vmin + val_range\n",
    "    e = metrics.entropy(\n",
    "        transformed,\n",
    "        vmin=entropy_vmin,\n",
    "        vmax=entropy_vmax,\n",
    "        bins=histogram_bins,\n",
    "        clip=True,\n",
    "    )\n",
    "    plt.figure(figsize=(12, 3))\n",
    "    plt.subplot(141)\n",
    "    # plt.hist(transformed.flatten(),bins=histogram_bins,range=(entropy_vmin,entropy_vmax))\n",
    "    plt.hist(transformed.flatten(), bins=histogram_bins)  # ,range=(900,1100))\n",
    "    plt.subplot(142)\n",
    "    plt.imshow(images[0])\n",
    "    plt.subplot(143)\n",
    "    plt.imshow(transformed[0])\n",
    "    plt.subplot(144)\n",
    "    plt.imshow(flatfield)\n",
    "    plt.colorbar()\n",
    "    plt.title(f\"entropy={e:.4f}\")\n",
    "    plt.show()"
   ]
  },
  {
   "cell_type": "code",
   "execution_count": null,
   "metadata": {
    "tags": []
   },
   "outputs": [],
   "source": [
    "keys = [\n",
    "    \"true_flatfield_id\",\n",
    "    \"intensity\",\n",
    "    \"ave_count\",\n",
    "    \"n_images\",\n",
    "    \"blob_dist_key\",\n",
    "    \"fitting_mode\",\n",
    "]\n",
    "for vals, grp in estimated_parameters_df.groupby(keys):\n",
    "    if vals[3] < 100:\n",
    "        continue\n",
    "    for rep, grp2 in grp.groupby(\"rep\"):\n",
    "        plt.plot(grp2[\"smoothness_flatfield\"], grp2[\"deviation\"], \"o-\")\n",
    "    plt.xscale(\"log\")\n",
    "    plt.yscale(\"log\")\n",
    "    plt.xlabel(\"deviation (L1 norm)\")\n",
    "    plt.ylabel(\"entropy\")\n",
    "    break\n",
    "    # plt.ylim(1.2,1.6)\n",
    "plt.show()"
   ]
  },
  {
   "cell_type": "code",
   "execution_count": null,
   "metadata": {
    "tags": []
   },
   "outputs": [],
   "source": [
    "keys = [\n",
    "    \"true_flatfield_id\",\n",
    "    \"intensity\",\n",
    "    \"ave_count\",\n",
    "    \"n_images\",\n",
    "    \"blob_dist_key\",\n",
    "    \"fitting_mode\",\n",
    "]\n",
    "for vals, grp in estimated_parameters_df.groupby(keys):\n",
    "    if vals[3] < 100:\n",
    "        continue\n",
    "    for rep, grp2 in grp.groupby(\"rep\"):\n",
    "        plt.plot(grp2[\"deviation\"], grp2[\"entropy\"], \"o-\")\n",
    "    # plt.yscale(\"log\")\n",
    "    plt.xlabel(\"deviation (L1 norm)\")\n",
    "    plt.ylabel(\"entropy\")\n",
    "    # plt.ylim(1.2,1.6)\n",
    "    plt.show()\n",
    "    break"
   ]
  },
  {
   "cell_type": "code",
   "execution_count": null,
   "metadata": {},
   "outputs": [],
   "source": []
  },
  {
   "cell_type": "code",
   "execution_count": null,
   "metadata": {},
   "outputs": [],
   "source": []
  }
 ],
 "metadata": {
  "kernelspec": {
   "display_name": "Python 3 (ipykernel)",
   "language": "python",
   "name": "python3"
  },
  "language_info": {
   "codemirror_mode": {
    "name": "ipython",
    "version": 3
   },
   "file_extension": ".py",
   "mimetype": "text/x-python",
   "name": "python",
   "nbconvert_exporter": "python",
   "pygments_lexer": "ipython3",
   "version": "3.10.12"
  }
 },
 "nbformat": 4,
 "nbformat_minor": 4
}
